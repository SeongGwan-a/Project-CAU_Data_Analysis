{
  "nbformat": 4,
  "nbformat_minor": 0,
  "metadata": {
    "colab": {
      "name": "골목대장팀_파이썬코드1(데이터전처리).ipynb",
      "provenance": [],
      "collapsed_sections": [
        "NDPZO0zakVmF",
        "_CULKSgGkYnK",
        "UCzjuqTVnYWV",
        "axkBc2ziqqYO",
        "B0-NK-ejs9_R",
        "M03mI_PUtBTS",
        "opsoJ1Qq7WKq",
        "knUgOcvf3IZg",
        "wqMCoVtslBct",
        "CENa2j7ylrF5",
        "ynPuTlMfmHOz",
        "C_rV6ZbP4oVa",
        "w9pACGlvEMgI",
        "yIwTa_YNIrvz",
        "LYwm_9dBMhYB",
        "S4Z-Dby40QHb",
        "_Y2en6o33757",
        "MnxxIGzw0cNK",
        "giWaUwvD0cNe",
        "Yy7wy8V50cNu",
        "7BJCHk9K3--Z",
        "_omTe6Ci35uO",
        "iqmTuZ9l35uk",
        "IzjIepGN35uy"
      ],
      "toc_visible": true,
      "include_colab_link": true
    },
    "kernelspec": {
      "name": "python3",
      "display_name": "Python 3"
    }
  },
  "cells": [
    {
      "cell_type": "markdown",
      "metadata": {
        "id": "view-in-github",
        "colab_type": "text"
      },
      "source": [
        "<a href=\"https://colab.research.google.com/github/SeongGwan-a/Project-CAU_Data_Analysis/blob/main/%EA%B3%A8%EB%AA%A9%EB%8C%80%EC%9E%A5%ED%8C%80_%ED%8C%8C%EC%9D%B4%EC%8D%AC%EC%BD%94%EB%93%9C1(%EB%8D%B0%EC%9D%B4%ED%84%B0%EC%A0%84%EC%B2%98%EB%A6%AC).ipynb\" target=\"_parent\"><img src=\"https://colab.research.google.com/assets/colab-badge.svg\" alt=\"Open In Colab\"/></a>"
      ]
    },
    {
      "cell_type": "markdown",
      "metadata": {
        "id": "NDPZO0zakVmF"
      },
      "source": [
        "# **데이터 생성**"
      ]
    },
    {
      "cell_type": "code",
      "metadata": {
        "id": "F_ppqvyFj7bp"
      },
      "source": [
        "import numpy as np\n",
        "import pandas as pd\n",
        "import matplotlib.pyplot as plt"
      ],
      "execution_count": null,
      "outputs": []
    },
    {
      "cell_type": "markdown",
      "metadata": {
        "id": "_CULKSgGkYnK"
      },
      "source": [
        "## **추정매출데이터 생성**"
      ]
    },
    {
      "cell_type": "code",
      "metadata": {
        "id": "tycrsQeBkFkB"
      },
      "source": [
        "# 추정매출데이터 로드 ( 출처: 서울열린데이터광장 )\n",
        "\n",
        "sales2013 = pd.read_csv(\"/content/drive/My Drive/골목대장데이터/서울시 우리마을가게 상권분석서비스(상권-추정매출)_2013.csv\", encoding=\"CP949\")\n",
        "sales2014 = pd.read_csv(\"/content/drive/My Drive/골목대장데이터/서울시 우리마을가게 상권분석서비스(상권-추정매출)_2014.csv\", encoding=\"CP949\")\n",
        "sales2015 = pd.read_csv(\"/content/drive/My Drive/골목대장데이터/서울시 우리마을가게 상권분석서비스(상권-추정매출)_2015.csv\", encoding=\"CP949\")\n",
        "sales2016 = pd.read_csv(\"/content/drive/My Drive/골목대장데이터/서울시 우리마을가게 상권분석서비스(상권-추정매출)_2016.csv\", encoding=\"CP949\")\n",
        "sales2017 = pd.read_csv(\"/content/drive/My Drive/골목대장데이터/서울시 우리마을가게 상권분석서비스(상권-추정매출)_2017.csv\", encoding=\"CP949\")\n",
        "sales2018 = pd.read_csv(\"/content/drive/My Drive/골목대장데이터/서울시 우리마을가게 상권분석서비스(상권-추정매출)_2018.csv\", encoding=\"CP949\")\n",
        "sales2019 = pd.read_csv(\"/content/drive/My Drive/골목대장데이터/서울시 우리마을가게 상권분석서비스(상권-추정매출)_2019.csv\", encoding=\"CP949\")\n",
        "sales2020 = pd.read_csv(\"/content/drive/My Drive/골목대장데이터/서울시 우리마을가게 상권분석서비스(상권-추정매출)_2020.csv\", encoding=\"CP949\")"
      ],
      "execution_count": null,
      "outputs": []
    },
    {
      "cell_type": "code",
      "metadata": {
        "id": "wiVARCvjkHnw"
      },
      "source": [
        "# 2013년부터 2020년 데이터 칼럼명을 동일하게 세팅 (2017년을 기준으로 맞춤)\n",
        "\n",
        "for i in range(2013,2021):\n",
        "  locals()[\"sales\" + str(i)].columns = sales2017.columns"
      ],
      "execution_count": null,
      "outputs": []
    },
    {
      "cell_type": "code",
      "metadata": {
        "id": "LXsigz3fkJCw"
      },
      "source": [
        "# 연도별 데이터를 통합하고 업종구분 칼럼 추가\n",
        "\n",
        "sales = pd.concat([sales2013,sales2014,sales2015,sales2016,sales2017,sales2018,sales2019,sales2020])\n",
        "sales[\"induty_cd\"] = sales[\"svc_induty_cd\"].str[:3]"
      ],
      "execution_count": null,
      "outputs": []
    },
    {
      "cell_type": "code",
      "metadata": {
        "id": "6hYOf3qbkPml"
      },
      "source": [
        "# 분석에 필요한 칼럼 설정\n",
        "\n",
        "col_ = [\"stdr_yy_cd\", \"stdr_qu_cd\", \"trdar_cd_nm\", \"thsmon_selng_amt\", \"thsmon_selng_co\", \"ml_selng_amt\",\"ml_selng_co\", \"fml_selng_amt\",\"fml_selng_co\",\n",
        "        \"agrde_10_selng_amt\",\t\"agrde_20_selng_amt\",\t\"agrde_30_selng_amt\",\t\"agrde_40_selng_amt\",\t\"agrde_50_selng_amt\",\t\"agrde_60_above_selng_amt\",\n",
        "        \"agrde_10_selng_co\",\t\"agrde_20_selng_co\",\t\"agrde_30_selng_co\",\t\"agrde_40_selng_co\",\t\"agrde_50_selng_co\",\t\"agrde_60_above_selng_co\"]"
      ],
      "execution_count": null,
      "outputs": []
    },
    {
      "cell_type": "code",
      "metadata": {
        "id": "GNSOusjBkUVm"
      },
      "source": [
        "# 방송출연 점포가 포함되었거나 그 주변의 전통시장, 골목상권 설정\n",
        "\n",
        "haebangchon = [\"신흥시장\",\"신흥로20길\",\"소월로20길\"]\n",
        "seongsu = [\"뚝섬로5길\",\"상원길\",\"성수일로6길\",\"아차산로5길\",\"왕십리로6길\"]\n",
        "seongnae = [\"천호대로162길\",\"천호옛길\",\"천호옛14길\",\"풍성로37가길\",\"천호대로170길\"]\n",
        "hongeun = [\"포방터시장\"]\n",
        "chungpa = [\"청파로47길\",\"청파로47나길\",\"원효로89길\",\"한강대로 88길\",\"두텁바위로1길\"]\n",
        "hoegi = [\"경희대로3길\",\"경희대로4길\",\"회귀시장\"]\n",
        "dunchon = [\"천호대로187길\",\"명일로13길\",\"양재대로96길\"]\n",
        "jeongneung = [\"정릉아리랑시장\",\"정릉로26길\",\"정릉로27길\"]\n",
        "hongje = [\"세무서길\",\"세무서2길\"]\n",
        "gongneung = [\"공릉동도깨비시장\", \"동일로192길\"]\n",
        "chang = [\"노해로60길\",\"도봉로109길\",\"도봉로114길\",\"쌍문역골목시장\"]\n",
        "joonggokdong = [\"긴고랑로9길\",\"중곡제일시장\",\"긴고랑로7길\",\"긴고랑로8길\",\"용마산로21길\",\"긴고랑로20길\"]\n",
        "sangdo = [\"상도로37길\", \"상도로47길\"]\n",
        "\n",
        "# haebangchon = [\"신흥시장\"]\n",
        "# seongsu = [\"상원길\"]\n",
        "# seongnae = [\"천호대로162길\"]\n",
        "# hongeun = [\"포방터시장\"]\n",
        "# chungpa = [\"청파로47길\"]\n",
        "# hoegi = [\"경희대로4길\"]\n",
        "# dunchon = [\"양재대로96길\"]\n",
        "# jeongneung = [\"정릉아리랑시장\"]\n",
        "# hongje = [\"세무서길\"]\n",
        "# gongneung = [\"공릉동도깨비시장\"]\n",
        "# chang = [\"도봉로114길\"]\n",
        "# joonggokdong = [\"긴고랑로9길\"]\n",
        "# sangdo = [\"상도로37길\", \"상도로47길\"]\n",
        "\n",
        "input = [haebangchon,seongsu,seongnae,hongeun,chungpa,hoegi,dunchon,jeongneung,hongje,gongneung,chang,joonggokdong]\n",
        "\n",
        "#input = {\"chungpa\":chungpa, \"joonggokdong\":joonggokdong, \"seongnae\":seongnae, \"chang\":chang, \n",
        "#         \"hoegi\":hoegi, \"seongsu\":seongsu, \"hongeun\":hongeun, \"dunchon\":dunchon, \"hongje\":hongje, \n",
        "#         \"jeongneung\":jeongneung, \"gongneung\":gongneung, \"haebangchon\":haebangchon}"
      ],
      "execution_count": null,
      "outputs": []
    },
    {
      "cell_type": "code",
      "metadata": {
        "id": "BqdfMWkXkoIX"
      },
      "source": [
        "# 필요 데이터 생성 함수 ( 외식 업종(CS1)만 포함한 상권별 합계 데이터 )\n",
        "\n",
        "def sales_by_sanggwon(area):\n",
        "  rdf = sales[sales[\"trdar_cd_nm\"].isin(area) & sales[\"induty_cd\"].isin([\"CS1\"])]\n",
        "  rdf = rdf.groupby([\"stdr_yy_cd\",\"stdr_qu_cd\", \"trdar_cd_nm\"]).sum().reset_index()[col_]\n",
        "  return rdf"
      ],
      "execution_count": null,
      "outputs": []
    },
    {
      "cell_type": "code",
      "metadata": {
        "id": "OxiO__pflBmc"
      },
      "source": [
        "# 데이터 생성 및 csv저장\n",
        "\n",
        "s_sales = sales_by_sanggwon(input[0])\n",
        "s_sales[\"area\"] = 0\n",
        "\n",
        "for i in range(1,len(input)):\n",
        "  temp = sales_by_sanggwon(input[i])\n",
        "  temp[\"area\"] = i\n",
        "  s_sales = pd.concat( [ s_sales, temp ] )\n",
        "\n",
        "s_col = [\"area\"] + col_\n",
        "\n",
        "s_sales = s_sales[s_col].sort_values(by=\"trdar_cd_nm\")\n",
        "s_sales.to_csv(\"s_sales.csv\")"
      ],
      "execution_count": null,
      "outputs": []
    },
    {
      "cell_type": "code",
      "metadata": {
        "id": "JZX8prlysou5"
      },
      "source": [
        "# 주변 상권들을 하나의 area로 합친 데이터 생성\n",
        "\n",
        "col_area = [\"stdr_yy_cd\", \"stdr_qu_cd\", \"thsmon_selng_amt\", \"thsmon_selng_co\", \"ml_selng_amt\",\"ml_selng_co\", \"fml_selng_amt\",\"fml_selng_co\",\n",
        "        \"agrde_10_selng_amt\",\t\"agrde_20_selng_amt\",\t\"agrde_30_selng_amt\",\t\"agrde_40_selng_amt\",\t\"agrde_50_selng_amt\",\t\"agrde_60_above_selng_amt\",\n",
        "        \"agrde_10_selng_co\",\t\"agrde_20_selng_co\",\t\"agrde_30_selng_co\",\t\"agrde_40_selng_co\",\t\"agrde_50_selng_co\",\t\"agrde_60_above_selng_co\"]\n",
        "\n",
        "def sales_by_area(area):\n",
        "  rdf = sales[sales[\"trdar_cd_nm\"].isin(area) & sales[\"induty_cd\"].isin([\"CS1\"])]\n",
        "  rdf = rdf.groupby([\"stdr_yy_cd\",\"stdr_qu_cd\"]).sum().reset_index()[col_area]\n",
        "  return rdf\n",
        "\n",
        "a_sales = sales_by_area(input[0])\n",
        "a_sales[\"area\"] = 0\n",
        "\n",
        "for i in range(1,len(input)):\n",
        "  temp = sales_by_area(input[i])\n",
        "  temp[\"area\"] = i\n",
        "  a_sales = pd.concat( [ a_sales, temp ] )\n",
        "\n",
        "a_col = [\"area\"] + col_area\n",
        "\n",
        "a_sales = a_sales[a_col]\n",
        "a_sales.to_csv(\"a_sales.csv\")"
      ],
      "execution_count": null,
      "outputs": []
    },
    {
      "cell_type": "code",
      "metadata": {
        "id": "_Hy5j6qPl7U3"
      },
      "source": [
        "# 예측에 필요한 상도동 골목상권의 데이터 생성 및 저장\n",
        "\n",
        "sangdo = [\"상도로37길\", \"상도로47길\"]\n",
        "\n",
        "sangdo_sales = sales_by_sanggwon(sangdo)\n",
        "\n",
        "sangdo_sales = sangdo_sales[col_]\n",
        "sangdo_sales.to_csv(\"sangdo_sales.csv\")"
      ],
      "execution_count": null,
      "outputs": []
    },
    {
      "cell_type": "markdown",
      "metadata": {
        "id": "UCzjuqTVnYWV"
      },
      "source": [
        "## **추정유동인구데이터 생성**"
      ]
    },
    {
      "cell_type": "code",
      "metadata": {
        "id": "qbn3CHjxnad7"
      },
      "source": [
        "# 추정유동인구데이터 로드 ( 출처: 서울시열린데이터광장 )\n",
        "\n",
        "pop = pd.read_csv(\"/content/drive/My Drive/골목대장데이터/서울시 우리마을가게 상권분석서비스(상권-추정유동인구)_2020.csv\", encoding=\"CP949\")"
      ],
      "execution_count": null,
      "outputs": []
    },
    {
      "cell_type": "code",
      "metadata": {
        "id": "il77kSGH583-"
      },
      "source": [
        "# 필요 데이터 생성 함수 ( 상권별 합계 데이터 )\n",
        "\n",
        "pop_col = [\"기준 년코드\",\"기준_분기_코드\",\"상권_코드_명\", \"총_유동인구_수\",\"남성_유동인구_수\",\"여성_유동인구_수\",\"연령대_10_유동인구_수\",\"연령대_20_유동인구_수\",\"연령대_30_유동인구_수\",\"연령대_40_유동인구_수\",\"연령대_50_유동인구_수\",\"연령대_60_이상_유동인구_수\"]\n",
        "\n",
        "def pop_by_sanggwon(area):\n",
        "  rdf = pop[ pop[\"상권_코드_명\"].isin(area) ]\n",
        "  rdf = rdf.groupby([\"기준 년코드\",\"기준_분기_코드\",\"상권_코드_명\"]).sum().reset_index()[pop_col]\n",
        "  return rdf\n",
        "\n",
        "\n",
        "# 필요 데이터 생성 및 csv 저장\n",
        "\n",
        "s_pop = pop_by_sanggwon(input[0])\n",
        "s_pop[\"area\"] = 0\n",
        "\n",
        "for i in range(1,len(input)):\n",
        "  temp = pop_by_sanggwon(input[i])\n",
        "  temp[\"area\"] = i\n",
        "  s_pop = pd.concat([s_pop,temp])\n",
        "\n",
        "p_col = [\"area\"] + pop_col\n",
        "\n",
        "s_pop = s_pop[p_col]\n",
        "s_pop.to_csv(\"s_pop.csv\")"
      ],
      "execution_count": null,
      "outputs": []
    },
    {
      "cell_type": "code",
      "metadata": {
        "id": "TeAW8qAInvgy"
      },
      "source": [
        "# 필요 데이터 생성 함수 ( area별 합계 데이터 )\n",
        "\n",
        "pop_col_area = [\"기준 년코드\",\"기준_분기_코드\", \"총_유동인구_수\",\"남성_유동인구_수\",\"여성_유동인구_수\",\"연령대_10_유동인구_수\",\"연령대_20_유동인구_수\",\"연령대_30_유동인구_수\",\"연령대_40_유동인구_수\",\"연령대_50_유동인구_수\",\"연령대_60_이상_유동인구_수\"]\n",
        "\n",
        "def pop_by_area(area):\n",
        "  rdf = pop[pop[\"상권_코드_명\"].isin(area)]\n",
        "  rdf = rdf.groupby([\"기준 년코드\",\"기준_분기_코드\"]).sum().reset_index()[pop_col_area]\n",
        "  return rdf\n",
        "\n",
        "\n",
        "# 필요 데이터 생성 및 csv 저장\n",
        "\n",
        "a_pop = pop_by_area(input[0])\n",
        "a_pop[\"area\"] = 0\n",
        "\n",
        "for i in range(1,len(input)):\n",
        "  temp = pop_by_area(input[i])\n",
        "  temp[\"area\"] = i\n",
        "  a_pop = pd.concat([a_pop,temp])\n",
        "\n",
        "p_col_area = [\"area\"] + pop_col_area\n",
        "\n",
        "a_pop = a_pop[p_col_area]\n",
        "a_pop.to_csv(\"a_pop.csv\")"
      ],
      "execution_count": null,
      "outputs": []
    },
    {
      "cell_type": "code",
      "metadata": {
        "id": "4zA-7mUZn22j"
      },
      "source": [
        "# 예측에 필요한 상도동 골목상권의 데이터 생성 및 저장\n",
        "\n",
        "sangdo_pop = pop_by_sanggwon(sangdo)\n",
        "\n",
        "sangdo_pop = sangdo_pop[pop_col]\n",
        "sangdo_pop.to_csv(\"sangdo_pop.csv\")"
      ],
      "execution_count": null,
      "outputs": []
    },
    {
      "cell_type": "markdown",
      "metadata": {
        "id": "axkBc2ziqqYO"
      },
      "source": [
        "# **매출데이터 수집오류 및 코로나에 따른 데이터보정**"
      ]
    },
    {
      "cell_type": "code",
      "metadata": {
        "id": "-FkE8dOBrFeo"
      },
      "source": [
        "# 골목상권, 전통시장, CS1만 가져오고, 연도, 분기별 합계 데이터 생성\n",
        "\n",
        "sales = sales[ (sales[\"trdar_se_cd_nm\"].isin([\"골목상권\", \"전통시장\"])) & (sales[\"induty_cd\"].isin([\"CS1\"])) ]\n",
        "sales_sum = sales.groupby([\"stdr_yy_cd\",\"stdr_qu_cd\"]).sum().reset_index()"
      ],
      "execution_count": null,
      "outputs": []
    },
    {
      "cell_type": "markdown",
      "metadata": {
        "id": "B0-NK-ejs9_R"
      },
      "source": [
        "## **매출액 보정률 계산**"
      ]
    },
    {
      "cell_type": "code",
      "metadata": {
        "id": "zOik7RnHLtof",
        "colab": {
          "base_uri": "https://localhost:8080/",
          "height": 294
        },
        "outputId": "dd971d81-e186-4f17-d7cd-86700d718e93"
      },
      "source": [
        "# 기존 데이터 확인\n",
        "\n",
        "plt.plot(\"thsmon_selng_amt\", data=sales_sum)"
      ],
      "execution_count": null,
      "outputs": [
        {
          "output_type": "execute_result",
          "data": {
            "text/plain": [
              "[<matplotlib.lines.Line2D at 0x7f7456315d68>]"
            ]
          },
          "metadata": {
            "tags": []
          },
          "execution_count": 396
        },
        {
          "output_type": "display_data",
          "data": {
            "image/png": "[encoded data removed]",
            "text/plain": [
              "<Figure size 432x288 with 1 Axes>"
            ]
          },
          "metadata": {
            "tags": [],
            "needs_background": "light"
          }
        }
      ]
    },
    {
      "cell_type": "code",
      "metadata": {
        "id": "rARrGIpXQ-N6"
      },
      "source": [
        "#연도별 평균 생성\n",
        "\n",
        "mean2013 = sales_sum[ sales_sum[\"stdr_yy_cd\"] == 2013 ] [\"thsmon_selng_amt\"].mean()\n",
        "mean2014 = sales_sum[ sales_sum[\"stdr_yy_cd\"] == 2014 ] [\"thsmon_selng_amt\"].mean()\n",
        "mean2015 = sales_sum[ sales_sum[\"stdr_yy_cd\"] == 2015 ] [\"thsmon_selng_amt\"].mean()\n",
        "mean2016 = sales_sum[ sales_sum[\"stdr_yy_cd\"] == 2016 ] [\"thsmon_selng_amt\"].mean()\n",
        "mean2017 = sales_sum[ sales_sum[\"stdr_yy_cd\"] == 2017 ] [\"thsmon_selng_amt\"].mean()\n",
        "mean2018 = sales_sum[ sales_sum[\"stdr_yy_cd\"] == 2018 ] [\"thsmon_selng_amt\"].mean()\n",
        "mean2019 = sales_sum[ sales_sum[\"stdr_yy_cd\"] == 2019 ] [\"thsmon_selng_amt\"].mean()\n",
        "mean2020 = sales_sum[ sales_sum[\"stdr_yy_cd\"] == 2020 ] [\"thsmon_selng_amt\"].mean()"
      ],
      "execution_count": null,
      "outputs": []
    },
    {
      "cell_type": "code",
      "metadata": {
        "id": "a0zBRC-ORLG-",
        "colab": {
          "base_uri": "https://localhost:8080/"
        },
        "outputId": "7eea7b0a-cf2f-430b-f560-b85803592e64"
      },
      "source": [
        "# 연도별 전년도대비 성장률 계산 후 확인\n",
        "\n",
        "rate2014 = (mean2014 - mean2013) / mean2013\n",
        "rate2015 = (mean2015 - mean2014) / mean2014\n",
        "rate2016 = (mean2016 - mean2015) / mean2015\n",
        "rate2017 = (mean2017 - mean2016) / mean2016\n",
        "rate2018 = (mean2018 - mean2017) / mean2017\n",
        "rate2019 = (mean2019 - mean2018) / mean2018\n",
        "rate2020 = (mean2020 - mean2019) / mean2019\n",
        "\n",
        "rate2014, rate2015, rate2016, rate2017, rate2018, rate2019, rate2020"
      ],
      "execution_count": null,
      "outputs": [
        {
          "output_type": "execute_result",
          "data": {
            "text/plain": [
              "(0.08518546113633904,\n",
              " 0.05323279261156138,\n",
              " 0.03935236420127287,\n",
              " 0.06755828856944263,\n",
              " 0.03931080391278945,\n",
              " -0.10624386591761292,\n",
              " -0.09828061082274578)"
            ]
          },
          "metadata": {
            "tags": []
          },
          "execution_count": 398
        }
      ]
    },
    {
      "cell_type": "code",
      "metadata": {
        "id": "d5W9X78hSAnW",
        "colab": {
          "base_uri": "https://localhost:8080/"
        },
        "outputId": "9bc410ff-a7d7-4c76-c187-07c4101a8dce"
      },
      "source": [
        "# 전년도 대비 성장률 평균 계산\n",
        "\n",
        "(rate2014 + rate2015 + rate2016 + rate2017 + rate2018) / 5"
      ],
      "execution_count": null,
      "outputs": [
        {
          "output_type": "execute_result",
          "data": {
            "text/plain": [
              "0.05692794208628107"
            ]
          },
          "metadata": {
            "tags": []
          },
          "execution_count": 399
        }
      ]
    },
    {
      "cell_type": "code",
      "metadata": {
        "id": "ZSUe2CZASJVV",
        "colab": {
          "base_uri": "https://localhost:8080/"
        },
        "outputId": "8bdbe7aa-8cd9-472c-a991-ecd44dc8a1b5"
      },
      "source": [
        "# 2019년 데이터에 더해줘야할 성장률 계산\n",
        "\n",
        "rate = 0.05692794208628107  + (-rate2019)\n",
        "rate"
      ],
      "execution_count": null,
      "outputs": [
        {
          "output_type": "execute_result",
          "data": {
            "text/plain": [
              "0.163171808003894"
            ]
          },
          "metadata": {
            "tags": []
          },
          "execution_count": 400
        }
      ]
    },
    {
      "cell_type": "code",
      "metadata": {
        "id": "rWmMIlu3NJnB"
      },
      "source": [
        "# 2019년 데이터에 18년의 rate를 곱해준 값을 더해서 저장\n",
        "\n",
        "sales_up_2019 = sales_sum[ sales_sum[\"stdr_yy_cd\"] == 2019 ] [\"thsmon_selng_amt\"] + (mean2018*rate)\n",
        "\n",
        "sales_sum1 = sales_sum.copy()\n",
        "\n",
        "for i in range(0,4):\n",
        "  sales_sum1.iloc[i+24][3] = sales_up_2019.iloc[i]"
      ],
      "execution_count": null,
      "outputs": []
    },
    {
      "cell_type": "code",
      "metadata": {
        "id": "eK-6LgxkUdp_",
        "colab": {
          "base_uri": "https://localhost:8080/"
        },
        "outputId": "58c2334d-928b-4065-c5a4-2f8e04bc71fa"
      },
      "source": [
        "# 보정된 데이터로 다시 계산\n",
        "\n",
        "mean2019_up = sales_sum1[ sales_sum1[\"stdr_yy_cd\"] == 2019 ] [\"thsmon_selng_amt\"].mean()\n",
        "\n",
        "rate2020_up = (mean2020 - mean2019_up) / mean2019_up\n",
        "\n",
        "rate_2 = rate2020_up - rate2020\n",
        "rate_2"
      ],
      "execution_count": null,
      "outputs": [
        {
          "output_type": "execute_result",
          "data": {
            "text/plain": [
              "-0.13921023107163907"
            ]
          },
          "metadata": {
            "tags": []
          },
          "execution_count": 402
        }
      ]
    },
    {
      "cell_type": "code",
      "metadata": {
        "id": "UiJ9XpnLV3BQ"
      },
      "source": [
        "# 보정된 19년 데이터로 20년 데이터 보정\n",
        "\n",
        "sales_up_2020 = sales_sum1[ sales_sum1[\"stdr_yy_cd\"] == 2020 ] [\"thsmon_selng_amt\"] + (mean2019_up*(-rate_2))\n",
        "\n",
        "sales_sum2 = sales_sum1.copy()\n",
        "\n",
        "for i in range(0,2):\n",
        "  sales_sum2.iloc[i+28][3] = sales_up_2020.iloc[i]"
      ],
      "execution_count": null,
      "outputs": []
    },
    {
      "cell_type": "code",
      "metadata": {
        "id": "-08nCVH5hLcC"
      },
      "source": [
        "# 2020년의 코로나영향 제거\n",
        "\n",
        "sales_up_c_2020 = sales_sum2[ sales_sum2[\"stdr_yy_cd\"] == 2020 ] [\"thsmon_selng_amt\"] + (mean2019_up*(-rate2020))\n",
        "\n",
        "sales_sum3 = sales_sum2.copy()\n",
        "\n",
        "for i in range(0,2):\n",
        "  sales_sum3.iloc[i+28][3] = sales_up_c_2020.iloc[i]"
      ],
      "execution_count": null,
      "outputs": []
    },
    {
      "cell_type": "code",
      "metadata": {
        "id": "rcW66ccihe2b",
        "colab": {
          "base_uri": "https://localhost:8080/",
          "height": 294
        },
        "outputId": "549a0f42-fa39-4dfe-abc5-d16bb29fd222"
      },
      "source": [
        "# 보정데이터 시각화\n",
        "\n",
        "plt.plot(\"thsmon_selng_amt\", data=sales_sum)\n",
        "plt.plot(\"thsmon_selng_amt\", data=sales_sum1)\n",
        "plt.plot(\"thsmon_selng_amt\", data=sales_sum2)\n",
        "plt.plot(\"thsmon_selng_amt\", data=sales_sum3)\n",
        "plt.legend()"
      ],
      "execution_count": null,
      "outputs": [
        {
          "output_type": "execute_result",
          "data": {
            "text/plain": [
              "<matplotlib.legend.Legend at 0x7f7456303780>"
            ]
          },
          "metadata": {
            "tags": []
          },
          "execution_count": 405
        },
        {
          "output_type": "display_data",
          "data": {
            "image/png": "[encoded data removed]",
            "text/plain": [
              "<Figure size 432x288 with 1 Axes>"
            ]
          },
          "metadata": {
            "tags": [],
            "needs_background": "light"
          }
        }
      ]
    },
    {
      "cell_type": "markdown",
      "metadata": {
        "id": "M03mI_PUtBTS"
      },
      "source": [
        "## **매출액 데이터 보정**"
      ]
    },
    {
      "cell_type": "markdown",
      "metadata": {
        "id": "MLkoAvNfSesi"
      },
      "source": [
        "### **2019 보정**"
      ]
    },
    {
      "cell_type": "code",
      "metadata": {
        "id": "64EE1xE2ZCbu"
      },
      "source": [
        "# 2018년 연평균 값 계산\n",
        "\n",
        "s_sales_2018_mean = s_sales[s_sales[\"stdr_yy_cd\"] == 2018].groupby(\"trdar_cd_nm\").mean().reset_index()"
      ],
      "execution_count": null,
      "outputs": []
    },
    {
      "cell_type": "code",
      "metadata": {
        "id": "v1BeHOUAgXq9"
      },
      "source": [
        "# 2019년 데이터 분기별 분할 저장\n",
        "\n",
        "s_sales_2019 = s_sales[s_sales[\"stdr_yy_cd\"] == 2019]\n",
        "s_sales_2019_1 =  s_sales_2019[s_sales_2019[\"stdr_qu_cd\"] == 1].reset_index()\n",
        "s_sales_2019_2 =  s_sales_2019[s_sales_2019[\"stdr_qu_cd\"] == 2].reset_index()\n",
        "s_sales_2019_3 =  s_sales_2019[s_sales_2019[\"stdr_qu_cd\"] == 3].reset_index()\n",
        "s_sales_2019_4 =  s_sales_2019[s_sales_2019[\"stdr_qu_cd\"] == 4].reset_index()"
      ],
      "execution_count": null,
      "outputs": []
    },
    {
      "cell_type": "code",
      "metadata": {
        "id": "vlauiZMNX0tH"
      },
      "source": [
        "# 각 분기별 보정 함수 저장\n",
        "\n",
        "def yy2019(qu):\n",
        "  temp2 = []\n",
        "  for j in range(40):\n",
        "    temp = s_sales[ (s_sales[\"stdr_yy_cd\"] == 2019) & (s_sales[\"stdr_qu_cd\"] == qu) ] [\"thsmon_selng_amt\"].iloc[j]  + (s_sales_2018_mean[\"thsmon_selng_amt\"][j]*rate)\n",
        "    temp2.append(temp)\n",
        "  return temp2"
      ],
      "execution_count": null,
      "outputs": []
    },
    {
      "cell_type": "code",
      "metadata": {
        "id": "w2C6A88_oNlG"
      },
      "source": [
        "# 각 분기별 보정값 저장\n",
        "\n",
        "temp2 = yy2019(1)\n",
        "\n",
        "s_sales_add_1 = pd.concat([s_sales_2019_1, pd.DataFrame(temp2)], axis=1)"
      ],
      "execution_count": null,
      "outputs": []
    },
    {
      "cell_type": "code",
      "metadata": {
        "id": "bKVNV6fgqaGz"
      },
      "source": [
        "temp2 = yy2019(2)\n",
        "\n",
        "s_sales_add_2 = pd.concat([s_sales_2019_2, pd.DataFrame(temp2)], axis=1)"
      ],
      "execution_count": null,
      "outputs": []
    },
    {
      "cell_type": "code",
      "metadata": {
        "id": "qZJo_eb8qjU6"
      },
      "source": [
        "temp2 = yy2019(3)\n",
        "\n",
        "s_sales_add_3 = pd.concat([s_sales_2019_3, pd.DataFrame(temp2)], axis=1)"
      ],
      "execution_count": null,
      "outputs": []
    },
    {
      "cell_type": "code",
      "metadata": {
        "id": "F-f-8ceCqjr5"
      },
      "source": [
        "temp2 = yy2019(4)\n",
        "\n",
        "s_sales_add_4 = pd.concat([s_sales_2019_4, pd.DataFrame(temp2)], axis=1)"
      ],
      "execution_count": null,
      "outputs": []
    },
    {
      "cell_type": "code",
      "metadata": {
        "id": "QTA0h4mFqpNi"
      },
      "source": [
        "s_sales_mod = pd.concat([s_sales_add_1,s_sales_add_2,s_sales_add_3,s_sales_add_4])\n",
        "s_sales_mod.rename(columns={ 0 : \"amount\" }, inplace=True)"
      ],
      "execution_count": null,
      "outputs": []
    },
    {
      "cell_type": "markdown",
      "metadata": {
        "id": "PejcQpwHrnxf"
      },
      "source": [
        "### **2020 보정**"
      ]
    },
    {
      "cell_type": "code",
      "metadata": {
        "id": "IUqMmlRtr2cI"
      },
      "source": [
        "# 보정 후 2019년 연평균 값 계산\n",
        "\n",
        "s_sales_2019_mean = s_sales_mod[s_sales_mod[\"stdr_yy_cd\"] == 2019].groupby(\"trdar_cd_nm\").mean().reset_index()"
      ],
      "execution_count": null,
      "outputs": []
    },
    {
      "cell_type": "code",
      "metadata": {
        "id": "PutNlTyCr2cN"
      },
      "source": [
        "# 2020년 데이터 분기별 분할 저장\n",
        "\n",
        "s_sales_2020 = s_sales[s_sales[\"stdr_yy_cd\"] == 2020]\n",
        "s_sales_2020_1 =  s_sales_2020[s_sales_2020[\"stdr_qu_cd\"] == 1].reset_index()\n",
        "s_sales_2020_2 =  s_sales_2020[s_sales_2020[\"stdr_qu_cd\"] == 2].reset_index()"
      ],
      "execution_count": null,
      "outputs": []
    },
    {
      "cell_type": "code",
      "metadata": {
        "id": "5AnFBGa-r2cP"
      },
      "source": [
        "# 각 분기별 보정 함수 저장\n",
        "\n",
        "def yy2020(qu):\n",
        "  temp1 = []\n",
        "  for j in range(40):\n",
        "    temp = s_sales[ (s_sales[\"stdr_yy_cd\"] == 2020) & (s_sales[\"stdr_qu_cd\"] == qu) ] [\"thsmon_selng_amt\"].iloc[j]  + (s_sales_2019_mean[\"amount\"][j]*(-rate2020_up))\n",
        "    temp1.append(temp)\n",
        "  return temp1"
      ],
      "execution_count": null,
      "outputs": []
    },
    {
      "cell_type": "code",
      "metadata": {
        "id": "_1cyWpBIr2cR"
      },
      "source": [
        "# 각 분기별 보정값 저장\n",
        "\n",
        "temp1 = yy2020(1)\n",
        "\n",
        "s_sales_add2_1 = pd.concat([s_sales_2020_1, pd.DataFrame(temp1)], axis=1)"
      ],
      "execution_count": null,
      "outputs": []
    },
    {
      "cell_type": "code",
      "metadata": {
        "id": "ROMRwV4Ar2cU"
      },
      "source": [
        "temp1 = yy2020(2)\n",
        "\n",
        "s_sales_add2_2 = pd.concat([s_sales_2020_2, pd.DataFrame(temp1)], axis=1)"
      ],
      "execution_count": null,
      "outputs": []
    },
    {
      "cell_type": "code",
      "metadata": {
        "id": "EifAKp9_r2ce"
      },
      "source": [
        "s_sales_mod2 = pd.concat([s_sales_add2_1,s_sales_add2_2])"
      ],
      "execution_count": null,
      "outputs": []
    },
    {
      "cell_type": "markdown",
      "metadata": {
        "id": "DuMINA50ilYP"
      },
      "source": [
        "### **2019년 이전 데이터와 결합**"
      ]
    },
    {
      "cell_type": "code",
      "metadata": {
        "id": "e1_phH1lvJuw"
      },
      "source": [
        "#2019년 보정 데이터 열 수정\n",
        "\n",
        "## 불필요 열 삭제, 기존 매출액 데이터 대체\n",
        "#s_sales_mod.drop([\"index\",\"thsmon_selng_amt\"], axis=1, inplace=True)\n",
        "s_sales_mod.rename(columns={ \"amount\" : \"thsmon_selng_amt\" }, inplace=True)\n",
        "\n",
        "## 기존 데이터와 똑같이 열 순서 변경\n",
        "col_ = [\"area\", \"stdr_yy_cd\", \"stdr_qu_cd\", \"trdar_cd_nm\", \"thsmon_selng_amt\", \"thsmon_selng_co\", \"ml_selng_amt\",\"ml_selng_co\", \"fml_selng_amt\",\"fml_selng_co\",\n",
        "        \"agrde_10_selng_amt\",\t\"agrde_20_selng_amt\",\t\"agrde_30_selng_amt\",\t\"agrde_40_selng_amt\",\t\"agrde_50_selng_amt\",\t\"agrde_60_above_selng_amt\",\n",
        "        \"agrde_10_selng_co\",\t\"agrde_20_selng_co\",\t\"agrde_30_selng_co\",\t\"agrde_40_selng_co\",\t\"agrde_50_selng_co\",\t\"agrde_60_above_selng_co\"]\n",
        "\n",
        "s_sales_mod = s_sales_mod[col_]\n"
      ],
      "execution_count": null,
      "outputs": []
    },
    {
      "cell_type": "code",
      "metadata": {
        "id": "HPFRMnO6xp2z"
      },
      "source": [
        "#2020년 보정 데이터 열 수정\n",
        "\n",
        "## 불필요 열 삭제\n",
        "#s_sales_mod2.drop([\"index\",\"thsmon_selng_amt\"], axis=1, inplace=True)\n",
        "s_sales_mod2.rename(columns={ 0 : \"thsmon_selng_amt\" }, inplace=True)\n",
        "\n",
        "## 기존 데이터와 똑같이 열 순서 변경\n",
        "\n",
        "s_sales_mod2 = s_sales_mod2[col_]"
      ],
      "execution_count": null,
      "outputs": []
    },
    {
      "cell_type": "code",
      "metadata": {
        "id": "ivH34YLSttEq"
      },
      "source": [
        "# 2019년 이전 데이터 생성\n",
        "\n",
        "s_sales_before = s_sales[s_sales[\"stdr_yy_cd\"].isin([2019,2020]) == False]"
      ],
      "execution_count": null,
      "outputs": []
    },
    {
      "cell_type": "code",
      "metadata": {
        "id": "44tm5UR_xP44"
      },
      "source": [
        "# 기존 데이터와 결합 후 정렬\n",
        "\n",
        "m_sales = pd.concat([s_sales_before, s_sales_mod, s_sales_mod2])\n",
        "m_sales = m_sales.sort_values(by=[\"area\", \"stdr_yy_cd\", \"stdr_qu_cd\"])"
      ],
      "execution_count": null,
      "outputs": []
    },
    {
      "cell_type": "markdown",
      "metadata": {
        "id": "opsoJ1Qq7WKq"
      },
      "source": [
        "## **매출건수 보정률 계산**"
      ]
    },
    {
      "cell_type": "code",
      "metadata": {
        "id": "hCxiRX3Vk1zZ",
        "colab": {
          "base_uri": "https://localhost:8080/",
          "height": 294
        },
        "outputId": "a84993e4-b153-4297-d693-7f84924b52c3"
      },
      "source": [
        "# 기존 데이터 확인\n",
        "\n",
        "plt.plot(\"thsmon_selng_co\", data=sales_sum)"
      ],
      "execution_count": null,
      "outputs": [
        {
          "output_type": "execute_result",
          "data": {
            "text/plain": [
              "[<matplotlib.lines.Line2D at 0x7f745636b518>]"
            ]
          },
          "metadata": {
            "tags": []
          },
          "execution_count": 433
        },
        {
          "output_type": "display_data",
          "data": {
            "image/png": "[encoded data removed]",
            "text/plain": [
              "<Figure size 432x288 with 1 Axes>"
            ]
          },
          "metadata": {
            "tags": [],
            "needs_background": "light"
          }
        }
      ]
    },
    {
      "cell_type": "code",
      "metadata": {
        "id": "yxCBrkWR3K6j"
      },
      "source": [
        "# 연도별 평균 생성\n",
        "\n",
        "c_mean2013 = sales_sum[ sales_sum[\"stdr_yy_cd\"] == 2013 ] [\"thsmon_selng_co\"].mean()\n",
        "c_mean2014 = sales_sum[ sales_sum[\"stdr_yy_cd\"] == 2014 ] [\"thsmon_selng_co\"].mean()\n",
        "c_mean2015 = sales_sum[ sales_sum[\"stdr_yy_cd\"] == 2015 ] [\"thsmon_selng_co\"].mean()\n",
        "c_mean2016 = sales_sum[ sales_sum[\"stdr_yy_cd\"] == 2016 ] [\"thsmon_selng_co\"].mean()\n",
        "c_mean2017 = sales_sum[ sales_sum[\"stdr_yy_cd\"] == 2017 ] [\"thsmon_selng_co\"].mean()\n",
        "c_mean2018 = sales_sum[ sales_sum[\"stdr_yy_cd\"] == 2018 ] [\"thsmon_selng_co\"].mean()\n",
        "c_mean2019 = sales_sum[ sales_sum[\"stdr_yy_cd\"] == 2019 ] [\"thsmon_selng_co\"].mean()\n",
        "c_mean2020 = sales_sum[ sales_sum[\"stdr_yy_cd\"] == 2020 ] [\"thsmon_selng_co\"].mean()"
      ],
      "execution_count": null,
      "outputs": []
    },
    {
      "cell_type": "code",
      "metadata": {
        "id": "2yIHKvez3h5w",
        "colab": {
          "base_uri": "https://localhost:8080/"
        },
        "outputId": "0e644798-3ba2-4573-be26-0b1106f87ea7"
      },
      "source": [
        "# 연도별 전년도대비 성장률 계산 후 확인\n",
        "\n",
        "c_rate2014 = (c_mean2014 - c_mean2013) / c_mean2013\n",
        "c_rate2015 = (c_mean2015 - c_mean2014) / c_mean2014\n",
        "c_rate2016 = (c_mean2016 - c_mean2015) / c_mean2015\n",
        "c_rate2017 = (c_mean2017 - c_mean2016) / c_mean2016\n",
        "c_rate2018 = (c_mean2018 - c_mean2017) / c_mean2017\n",
        "c_rate2019 = (c_mean2019 - c_mean2018) / c_mean2018\n",
        "c_rate2020 = (c_mean2020 - c_mean2019) / c_mean2019\n",
        "\n",
        "c_rate2014, c_rate2015, c_rate2016, c_rate2017, c_rate2018, c_rate2019, c_rate2020"
      ],
      "execution_count": null,
      "outputs": [
        {
          "output_type": "execute_result",
          "data": {
            "text/plain": [
              "(0.15888580613728717,\n",
              " 0.09685633224720085,\n",
              " 0.07604846452439114,\n",
              " 0.07954031491938839,\n",
              " 0.011624092541178134,\n",
              " -0.09348594771145283,\n",
              " -0.10677769051159279)"
            ]
          },
          "metadata": {
            "tags": []
          },
          "execution_count": 435
        }
      ]
    },
    {
      "cell_type": "code",
      "metadata": {
        "id": "fMYb5bmu3wj-",
        "colab": {
          "base_uri": "https://localhost:8080/"
        },
        "outputId": "c63ffdff-b4e6-45e0-b241-db77cce2e65d"
      },
      "source": [
        "# 전년도 대비 성장률 평균 계산\n",
        "\n",
        "(c_rate2014 + c_rate2015 + c_rate2016 + c_rate2017 + c_rate2018) / 5"
      ],
      "execution_count": null,
      "outputs": [
        {
          "output_type": "execute_result",
          "data": {
            "text/plain": [
              "0.08459100207388913"
            ]
          },
          "metadata": {
            "tags": []
          },
          "execution_count": 436
        }
      ]
    },
    {
      "cell_type": "code",
      "metadata": {
        "id": "33KMAK00305L",
        "colab": {
          "base_uri": "https://localhost:8080/"
        },
        "outputId": "f31af1f7-9ff3-462c-ce25-9b30979f2026"
      },
      "source": [
        "# 2019년 데이터에 더해줘야할 성장률 계산\n",
        "\n",
        "c_rate = ((c_rate2014 + c_rate2015 + c_rate2016 + c_rate2017 + c_rate2018) / 5)  + (-c_rate2019)\n",
        "c_rate"
      ],
      "execution_count": null,
      "outputs": [
        {
          "output_type": "execute_result",
          "data": {
            "text/plain": [
              "0.17807694978534194"
            ]
          },
          "metadata": {
            "tags": []
          },
          "execution_count": 437
        }
      ]
    },
    {
      "cell_type": "code",
      "metadata": {
        "id": "S_py4Yi74caL"
      },
      "source": [
        "# 2019년 데이터에 18년의 rate를 곱해준 값을 더해서 저장\n",
        "\n",
        "c_sales_up_2019 = sales_sum[ sales_sum[\"stdr_yy_cd\"] == 2019 ] [\"thsmon_selng_co\"] + (c_mean2018*c_rate)\n",
        "\n",
        "sales_c_1 = sales_sum.copy()\n",
        "\n",
        "for i in range(0,4):\n",
        "  sales_c_1.iloc[i+24][4] = c_sales_up_2019.iloc[i]"
      ],
      "execution_count": null,
      "outputs": []
    },
    {
      "cell_type": "code",
      "metadata": {
        "id": "eX3HDQrS5LQO",
        "colab": {
          "base_uri": "https://localhost:8080/"
        },
        "outputId": "18b6d270-3738-4cfb-a4ab-0af0fa923c64"
      },
      "source": [
        "# 보정된 데이터로 다시 계산\n",
        "\n",
        "c_mean2019_up = sales_c_1[ sales_c_1[\"stdr_yy_cd\"] == 2019 ] [\"thsmon_selng_co\"].mean()\n",
        "\n",
        "c_rate2020_up = (c_mean2020 - c_mean2019_up) / c_mean2019_up\n",
        "\n",
        "c_rate_2 = c_rate2020_up - c_rate2020\n",
        "c_rate_2"
      ],
      "execution_count": null,
      "outputs": [
        {
          "output_type": "execute_result",
          "data": {
            "text/plain": [
              "-0.1466564812980351"
            ]
          },
          "metadata": {
            "tags": []
          },
          "execution_count": 439
        }
      ]
    },
    {
      "cell_type": "code",
      "metadata": {
        "id": "KdJ_2xP25b-i"
      },
      "source": [
        "# 보정된 19년 데이터로 20년 데이터 보정\n",
        "\n",
        "c_sales_up_2020 = sales_c_1[ sales_c_1[\"stdr_yy_cd\"] == 2020 ] [\"thsmon_selng_co\"] + (c_mean2019_up*(-c_rate_2))\n",
        "\n",
        "sales_c_2 = sales_c_1.copy()\n",
        "\n",
        "for i in range(0,2):\n",
        "  sales_c_2.iloc[i+28][4] = c_sales_up_2020.iloc[i]"
      ],
      "execution_count": null,
      "outputs": []
    },
    {
      "cell_type": "code",
      "metadata": {
        "id": "M7cBu0h9c7t_"
      },
      "source": [
        "# 2020년의 코로나영향 제거\n",
        "\n",
        "c_sales_up_2020_2 = sales_c_2[ sales_c_2[\"stdr_yy_cd\"] == 2020 ] [\"thsmon_selng_co\"] + (c_mean2019_up*(-c_rate2020))\n",
        "\n",
        "sales_c_3 = sales_c_2.copy()\n",
        "\n",
        "for i in range(0,2):\n",
        "  sales_c_3.iloc[i+28][4] = c_sales_up_2020_2.iloc[i]"
      ],
      "execution_count": null,
      "outputs": []
    },
    {
      "cell_type": "code",
      "metadata": {
        "id": "RvzJ7YAV5s2X",
        "colab": {
          "base_uri": "https://localhost:8080/",
          "height": 294
        },
        "outputId": "6ec62f83-f417-4732-e70e-5455d727466d"
      },
      "source": [
        "# 보정데이터 시각화\n",
        "\n",
        "plt.plot(\"thsmon_selng_co\", data=sales_sum)\n",
        "plt.plot(\"thsmon_selng_co\", data=sales_c_1)\n",
        "plt.plot(\"thsmon_selng_co\", data=sales_c_2)\n",
        "plt.plot(\"thsmon_selng_co\", data=sales_c_3)\n",
        "plt.legend()"
      ],
      "execution_count": null,
      "outputs": [
        {
          "output_type": "execute_result",
          "data": {
            "text/plain": [
              "<matplotlib.legend.Legend at 0x7f745635b6a0>"
            ]
          },
          "metadata": {
            "tags": []
          },
          "execution_count": 442
        },
        {
          "output_type": "display_data",
          "data": {
            "image/png": "[encoded data removed]",
            "text/plain": [
              "<Figure size 432x288 with 1 Axes>"
            ]
          },
          "metadata": {
            "tags": [],
            "needs_background": "light"
          }
        }
      ]
    },
    {
      "cell_type": "markdown",
      "metadata": {
        "id": "knUgOcvf3IZg"
      },
      "source": [
        "## **매출건수 데이터 보정**"
      ]
    },
    {
      "cell_type": "markdown",
      "metadata": {
        "id": "wqMCoVtslBct"
      },
      "source": [
        "### **2019 보정**"
      ]
    },
    {
      "cell_type": "code",
      "metadata": {
        "id": "KpS2GsSi7bv5"
      },
      "source": [
        "# 2018년 연평균 값 계산\n",
        "\n",
        "s_sales_2018_mean = m_sales[m_sales[\"stdr_yy_cd\"] == 2018].groupby(\"trdar_cd_nm\").mean().reset_index()"
      ],
      "execution_count": null,
      "outputs": []
    },
    {
      "cell_type": "code",
      "metadata": {
        "id": "G2zCL6_57bv-"
      },
      "source": [
        "# 2019년 데이터 분기별 분할 저장\n",
        "\n",
        "m_sales_2019 = m_sales[m_sales[\"stdr_yy_cd\"] == 2019]\n",
        "s_sales_2019_1 =  m_sales_2019[m_sales_2019[\"stdr_qu_cd\"] == 1].reset_index()\n",
        "s_sales_2019_2 =  m_sales_2019[m_sales_2019[\"stdr_qu_cd\"] == 2].reset_index()\n",
        "s_sales_2019_3 =  m_sales_2019[m_sales_2019[\"stdr_qu_cd\"] == 3].reset_index()\n",
        "s_sales_2019_4 =  m_sales_2019[m_sales_2019[\"stdr_qu_cd\"] == 4].reset_index()"
      ],
      "execution_count": null,
      "outputs": []
    },
    {
      "cell_type": "code",
      "metadata": {
        "id": "Rk9vTerr7bwA"
      },
      "source": [
        "# 각 분기별 보정 함수 저장\n",
        "\n",
        "def yy2019co(qu):\n",
        "  temp2 = []\n",
        "  for j in range(40):\n",
        "    temp = m_sales[ (m_sales[\"stdr_yy_cd\"] == 2019) & (m_sales[\"stdr_qu_cd\"] == qu) ] [\"thsmon_selng_co\"].iloc[j]  + (s_sales_2018_mean[\"thsmon_selng_co\"][j]*c_rate)\n",
        "    temp2.append(temp)\n",
        "  return temp2"
      ],
      "execution_count": null,
      "outputs": []
    },
    {
      "cell_type": "code",
      "metadata": {
        "id": "8TTxGaHq7bwC"
      },
      "source": [
        "# 각 분기별 보정값 저장\n",
        "\n",
        "temp2 = yy2019co(1)\n",
        "\n",
        "s_sales_c_1 = pd.concat([s_sales_2019_1, pd.DataFrame(temp2)], axis=1)"
      ],
      "execution_count": null,
      "outputs": []
    },
    {
      "cell_type": "code",
      "metadata": {
        "id": "F8O_knVK7bwF"
      },
      "source": [
        "temp2 = yy2019co(2)\n",
        "\n",
        "s_sales_c_2 = pd.concat([s_sales_2019_2, pd.DataFrame(temp2)], axis=1)"
      ],
      "execution_count": null,
      "outputs": []
    },
    {
      "cell_type": "code",
      "metadata": {
        "id": "e9nvgD_-7bwI"
      },
      "source": [
        "temp2 = yy2019co(3)\n",
        "\n",
        "s_sales_c_3 = pd.concat([s_sales_2019_3, pd.DataFrame(temp2)], axis=1)"
      ],
      "execution_count": null,
      "outputs": []
    },
    {
      "cell_type": "code",
      "metadata": {
        "id": "URS4bco97bwK"
      },
      "source": [
        "temp2 = yy2019co(4)\n",
        "\n",
        "s_sales_c_4 = pd.concat([s_sales_2019_4, pd.DataFrame(temp2)], axis=1)"
      ],
      "execution_count": null,
      "outputs": []
    },
    {
      "cell_type": "code",
      "metadata": {
        "id": "8wy1ytOd7bwN"
      },
      "source": [
        "s_sales_c_mod = pd.concat([s_sales_c_1,s_sales_c_2,s_sales_c_3,s_sales_c_4])\n",
        "s_sales_c_mod.rename(columns={ 0 : \"count\" }, inplace=True)"
      ],
      "execution_count": null,
      "outputs": []
    },
    {
      "cell_type": "markdown",
      "metadata": {
        "id": "CENa2j7ylrF5"
      },
      "source": [
        "### **2020 보정**"
      ]
    },
    {
      "cell_type": "code",
      "metadata": {
        "id": "kaQlsCgI8YWo"
      },
      "source": [
        "# 보정 후 2019년 연평균 값 계산\n",
        "\n",
        "s_sales_2019_mean = s_sales_c_mod[s_sales_c_mod[\"stdr_yy_cd\"] == 2019].groupby(\"trdar_cd_nm\").mean().reset_index()"
      ],
      "execution_count": null,
      "outputs": []
    },
    {
      "cell_type": "code",
      "metadata": {
        "id": "Z4F4TnIT8YWt"
      },
      "source": [
        "# 2020년 데이터 분기별 분할 저장\n",
        "\n",
        "s_sales_2020 = m_sales[m_sales[\"stdr_yy_cd\"] == 2020]\n",
        "s_sales_2020_1 =  s_sales_2020[s_sales_2020[\"stdr_qu_cd\"] == 1].reset_index()\n",
        "s_sales_2020_2 =  s_sales_2020[s_sales_2020[\"stdr_qu_cd\"] == 2].reset_index()"
      ],
      "execution_count": null,
      "outputs": []
    },
    {
      "cell_type": "code",
      "metadata": {
        "id": "ijSHC7E48YWw"
      },
      "source": [
        "# 각 분기별 보정 함수 저장\n",
        "\n",
        "def yy2020co(qu):\n",
        "  temp1 = []\n",
        "  for j in range(40):\n",
        "    temp = m_sales[ (m_sales[\"stdr_yy_cd\"] == 2020) & (m_sales[\"stdr_qu_cd\"] == qu) ] [\"thsmon_selng_co\"].iloc[j]  + (s_sales_2019_mean[\"count\"][j]*-c_rate2020_up)\n",
        "    temp1.append(temp)\n",
        "  return temp1"
      ],
      "execution_count": null,
      "outputs": []
    },
    {
      "cell_type": "code",
      "metadata": {
        "id": "f9O4LuD68YWy"
      },
      "source": [
        "# 각 분기별 보정값 저장\n",
        "\n",
        "temp1 = yy2020co(1)\n",
        "\n",
        "s_sales_c2_1 = pd.concat([s_sales_2020_1, pd.DataFrame(temp1)], axis=1)"
      ],
      "execution_count": null,
      "outputs": []
    },
    {
      "cell_type": "code",
      "metadata": {
        "id": "z0NWy1lR8YW1"
      },
      "source": [
        "temp1 = yy2020co(2)\n",
        "\n",
        "s_sales_c2_2 = pd.concat([s_sales_2020_2, pd.DataFrame(temp1)], axis=1)"
      ],
      "execution_count": null,
      "outputs": []
    },
    {
      "cell_type": "code",
      "metadata": {
        "id": "q8P7RiNk8YW3"
      },
      "source": [
        "s_sales_c_mod2 = pd.concat([s_sales_c2_1,s_sales_c2_2])"
      ],
      "execution_count": null,
      "outputs": []
    },
    {
      "cell_type": "markdown",
      "metadata": {
        "id": "ynPuTlMfmHOz"
      },
      "source": [
        "### **2019년 이전 데이터와 결합**"
      ]
    },
    {
      "cell_type": "code",
      "metadata": {
        "id": "he5r-u9eYzur"
      },
      "source": [
        "# 2019년 보정 데이터 열 수정\n",
        "\n",
        "## 불필요 열 삭제, 기존 매출건수 데이터 대체\n",
        "#s_sales_c_mod.drop([\"index\",\"thsmon_selng_co\"], axis=1, inplace=True)\n",
        "s_sales_c_mod.rename(columns={ \"count\" : \"thsmon_selng_co\" }, inplace=True)\n",
        "\n",
        "## 기존 데이터와 똑같이 칼럼순서변경\n",
        "s_sales_c_mod = s_sales_c_mod[col_]"
      ],
      "execution_count": null,
      "outputs": []
    },
    {
      "cell_type": "code",
      "metadata": {
        "id": "0KrQ0qE5YzrS"
      },
      "source": [
        "# 2020년 보정 데이터 열 수정\n",
        "\n",
        "## 불필요 열 삭제, 기존 매출건수 데이터 대체\n",
        "s_sales_c_mod2.drop([\"index\",\"thsmon_selng_co\"], axis=1, inplace=True)\n",
        "s_sales_c_mod2.rename(columns={ 0 : \"thsmon_selng_co\" }, inplace=True)\n",
        "\n",
        "## 기존 데이터와 똑같이 칼럼순서변경\n",
        "s_sales_c_mod2 = s_sales_c_mod2[col_]"
      ],
      "execution_count": null,
      "outputs": []
    },
    {
      "cell_type": "code",
      "metadata": {
        "id": "khWanZ-W8YW_"
      },
      "source": [
        "# 2019년 이전 데이터 생성\n",
        "\n",
        "s_sales_before = m_sales[m_sales[\"stdr_yy_cd\"].isin([2019,2020]) == False]"
      ],
      "execution_count": null,
      "outputs": []
    },
    {
      "cell_type": "code",
      "metadata": {
        "id": "1i9_NZ_QZUUt"
      },
      "source": [
        "# # 기존 데이터와 결합 후 정렬\n",
        "\n",
        "m_sales = pd.concat([s_sales_before, s_sales_c_mod, s_sales_c_mod2])\n",
        "m_sales = m_sales.sort_values(by=[\"area\", \"stdr_yy_cd\", \"stdr_qu_cd\"])\n",
        "m_sales.to_csv(\"m_sales.csv\")"
      ],
      "execution_count": null,
      "outputs": []
    },
    {
      "cell_type": "markdown",
      "metadata": {
        "id": "C_rV6ZbP4oVa"
      },
      "source": [
        "# **유동인구 급증에 따른 데이터 보정**"
      ]
    },
    {
      "cell_type": "code",
      "metadata": {
        "id": "Iero8z794q55",
        "colab": {
          "base_uri": "https://localhost:8080/",
          "height": 1000
        },
        "outputId": "8588f661-4806-49ba-a07d-745917c5ea01"
      },
      "source": [
        "# 유동인구 데이터 시각화해서 확인\n",
        "\n",
        "for i in range(12):\n",
        "  temp = a_pop[a_pop[\"area\"]==i]\n",
        "  \n",
        "  plt.plot(temp.총_유동인구_수)\n",
        "  plt.show()"
      ],
      "execution_count": null,
      "outputs": [
        {
          "output_type": "display_data",
          "data": {
            "image/png": "[encoded data removed]",
            "text/plain": [
              "<Figure size 432x288 with 1 Axes>"
            ]
          },
          "metadata": {
            "tags": [],
            "needs_background": "light"
          }
        },
        {
          "output_type": "display_data",
          "data": {
            "image/png": "[encoded data removed]",
            "text/plain": [
              "<Figure size 432x288 with 1 Axes>"
            ]
          },
          "metadata": {
            "tags": [],
            "needs_background": "light"
          }
        },
        {
          "output_type": "display_data",
          "data": {
            "image/png": "[encoded data removed]",
            "text/plain": [
              "<Figure size 432x288 with 1 Axes>"
            ]
          },
          "metadata": {
            "tags": [],
            "needs_background": "light"
          }
        },
        {
          "output_type": "display_data",
          "data": {
            "image/png": "[encoded data removed]",
            "text/plain": [
              "<Figure size 432x288 with 1 Axes>"
            ]
          },
          "metadata": {
            "tags": [],
            "needs_background": "light"
          }
        },
        {
          "output_type": "display_data",
          "data": {
            "image/png": "[encoded data removed]",
            "text/plain": [
              "<Figure size 432x288 with 1 Axes>"
            ]
          },
          "metadata": {
            "tags": [],
            "needs_background": "light"
          }
        },
        {
          "output_type": "display_data",
          "data": {
            "image/png": "[encoded data removed]",
            "text/plain": [
              "<Figure size 432x288 with 1 Axes>"
            ]
          },
          "metadata": {
            "tags": [],
            "needs_background": "light"
          }
        },
        {
          "output_type": "display_data",
          "data": {
            "image/png": "[encoded data removed]",
            "text/plain": [
              "<Figure size 432x288 with 1 Axes>"
            ]
          },
          "metadata": {
            "tags": [],
            "needs_background": "light"
          }
        },
        {
          "output_type": "display_data",
          "data": {
            "image/png": "[encoded data removed]",
            "text/plain": [
              "<Figure size 432x288 with 1 Axes>"
            ]
          },
          "metadata": {
            "tags": [],
            "needs_background": "light"
          }
        },
        {
          "output_type": "display_data",
          "data": {
            "image/png": "[encoded data removed]",
            "text/plain": [
              "<Figure size 432x288 with 1 Axes>"
            ]
          },
          "metadata": {
            "tags": [],
            "needs_background": "light"
          }
        },
        {
          "output_type": "display_data",
          "data": {
            "image/png": "[encoded data removed]",
            "text/plain": [
              "<Figure size 432x288 with 1 Axes>"
            ]
          },
          "metadata": {
            "tags": [],
            "needs_background": "light"
          }
        },
        {
          "output_type": "display_data",
          "data": {
            "image/png": "[encoded data removed]",
            "text/plain": [
              "<Figure size 432x288 with 1 Axes>"
            ]
          },
          "metadata": {
            "tags": [],
            "needs_background": "light"
          }
        },
        {
          "output_type": "display_data",
          "data": {
            "image/png": "[encoded data removed]",
            "text/plain": [
              "<Figure size 432x288 with 1 Axes>"
            ]
          },
          "metadata": {
            "tags": [],
            "needs_background": "light"
          }
        }
      ]
    },
    {
      "cell_type": "markdown",
      "metadata": {
        "id": "TuqpzPRd5J4F"
      },
      "source": [
        "2019년에 유동인구가 급증한다.\n",
        "\n",
        "데이터 제공기관에 문의해 본 결과, 유동인구 데이터를 수집하는 기지국의 개수가 늘어나면서 급증하는 현상이 일어난다는 것을 확인했다.\n",
        "\n",
        "이를 보정하기 위해 서울 전체 상권의 유동인구에서 2018년 4분기 대비 2019년 1분기 증가율의 평균을 구해 2019년 이전의 데이터에 증가율을 곱해준다."
      ]
    },
    {
      "cell_type": "code",
      "metadata": {
        "id": "abFq0gAI-Wk8"
      },
      "source": [
        "# 증가율 계산을 위해 18년 4분기와 19년 1분기의 데이터 생성\n",
        "\n",
        "pop_1804 = pop[(pop[\"기준 년코드\"]==2018) & (pop[\"기준_분기_코드\"]==4)]\n",
        "pop_1901 = pop[(pop[\"기준 년코드\"]==2019) & (pop[\"기준_분기_코드\"]==1)]"
      ],
      "execution_count": null,
      "outputs": []
    },
    {
      "cell_type": "code",
      "metadata": {
        "id": "9WfAQPX8_snI",
        "colab": {
          "base_uri": "https://localhost:8080/"
        },
        "outputId": "2ddc7bba-f864-48ee-9cc0-71e96013276d"
      },
      "source": [
        "# 증가율 계산\n",
        "\n",
        "pop_1804 = pop_1804.sort_values(by= \"상권_코드_명\")\n",
        "pop_1901 = pop_1901.sort_values(by= \"상권_코드_명\")\n",
        "a_pop_1804 = np.array(pop_1804[\"총_유동인구_수\"])\n",
        "a_pop_1901 = np.array(pop_1901[\"총_유동인구_수\"])\n",
        "\n",
        "a_pop_rate = (a_pop_1901-a_pop_1804)/a_pop_1804\n",
        "a_pop_rate.mean()"
      ],
      "execution_count": null,
      "outputs": [
        {
          "output_type": "execute_result",
          "data": {
            "text/plain": [
              "2.907131885456515"
            ]
          },
          "metadata": {
            "tags": []
          },
          "execution_count": 255
        }
      ]
    },
    {
      "cell_type": "code",
      "metadata": {
        "id": "oY1xxJbGAyRq",
        "colab": {
          "base_uri": "https://localhost:8080/",
          "height": 436
        },
        "outputId": "202c6853-cd43-4c2c-c1b9-68d9a7aeff53"
      },
      "source": [
        "# 선택한 상권의 19년 이전의 데이터 생성 후, 증가율 곱해서 보정\n",
        "\n",
        "p_til18 = s_pop[s_pop[\"기준 년코드\"] < 2019]\n",
        "p_imp = p_til18.iloc[:,4:].mul(2.907)\n",
        "p_imp"
      ],
      "execution_count": null,
      "outputs": [
        {
          "output_type": "execute_result",
          "data": {
            "text/html": [
              "<div>\n",
              "<style scoped>\n",
              "    .dataframe tbody tr th:only-of-type {\n",
              "        vertical-align: middle;\n",
              "    }\n",
              "\n",
              "    .dataframe tbody tr th {\n",
              "        vertical-align: top;\n",
              "    }\n",
              "\n",
              "    .dataframe thead th {\n",
              "        text-align: right;\n",
              "    }\n",
              "</style>\n",
              "<table border=\"1\" class=\"dataframe\">\n",
              "  <thead>\n",
              "    <tr style=\"text-align: right;\">\n",
              "      <th></th>\n",
              "      <th>총_유동인구_수</th>\n",
              "      <th>남성_유동인구_수</th>\n",
              "      <th>여성_유동인구_수</th>\n",
              "      <th>연령대_10_유동인구_수</th>\n",
              "      <th>연령대_20_유동인구_수</th>\n",
              "      <th>연령대_30_유동인구_수</th>\n",
              "      <th>연령대_40_유동인구_수</th>\n",
              "      <th>연령대_50_유동인구_수</th>\n",
              "      <th>연령대_60_이상_유동인구_수</th>\n",
              "    </tr>\n",
              "  </thead>\n",
              "  <tbody>\n",
              "    <tr>\n",
              "      <th>0</th>\n",
              "      <td>1014051.717</td>\n",
              "      <td>538417.098</td>\n",
              "      <td>475628.805</td>\n",
              "      <td>38427.633</td>\n",
              "      <td>146323.845</td>\n",
              "      <td>279807.471</td>\n",
              "      <td>240097.851</td>\n",
              "      <td>198731.241</td>\n",
              "      <td>110669.490</td>\n",
              "    </tr>\n",
              "    <tr>\n",
              "      <th>1</th>\n",
              "      <td>363183.138</td>\n",
              "      <td>196562.619</td>\n",
              "      <td>166620.519</td>\n",
              "      <td>13258.827</td>\n",
              "      <td>42857.901</td>\n",
              "      <td>103050.243</td>\n",
              "      <td>98974.629</td>\n",
              "      <td>75986.073</td>\n",
              "      <td>29046.744</td>\n",
              "    </tr>\n",
              "    <tr>\n",
              "      <th>2</th>\n",
              "      <td>91518.174</td>\n",
              "      <td>48869.577</td>\n",
              "      <td>42648.597</td>\n",
              "      <td>4354.686</td>\n",
              "      <td>12633.822</td>\n",
              "      <td>24035.076</td>\n",
              "      <td>21520.521</td>\n",
              "      <td>17863.515</td>\n",
              "      <td>11107.647</td>\n",
              "    </tr>\n",
              "    <tr>\n",
              "      <th>3</th>\n",
              "      <td>1163445.354</td>\n",
              "      <td>617734.593</td>\n",
              "      <td>545707.854</td>\n",
              "      <td>42122.430</td>\n",
              "      <td>168440.301</td>\n",
              "      <td>316392.066</td>\n",
              "      <td>276830.703</td>\n",
              "      <td>232126.857</td>\n",
              "      <td>127518.462</td>\n",
              "    </tr>\n",
              "    <tr>\n",
              "      <th>4</th>\n",
              "      <td>426201.084</td>\n",
              "      <td>229289.625</td>\n",
              "      <td>196911.459</td>\n",
              "      <td>19418.760</td>\n",
              "      <td>50392.845</td>\n",
              "      <td>114381.729</td>\n",
              "      <td>113300.325</td>\n",
              "      <td>88759.431</td>\n",
              "      <td>39953.808</td>\n",
              "    </tr>\n",
              "    <tr>\n",
              "      <th>...</th>\n",
              "      <td>...</td>\n",
              "      <td>...</td>\n",
              "      <td>...</td>\n",
              "      <td>...</td>\n",
              "      <td>...</td>\n",
              "      <td>...</td>\n",
              "      <td>...</td>\n",
              "      <td>...</td>\n",
              "      <td>...</td>\n",
              "    </tr>\n",
              "    <tr>\n",
              "      <th>115</th>\n",
              "      <td>417919.041</td>\n",
              "      <td>214289.505</td>\n",
              "      <td>203612.094</td>\n",
              "      <td>18142.587</td>\n",
              "      <td>94974.597</td>\n",
              "      <td>76547.124</td>\n",
              "      <td>69541.254</td>\n",
              "      <td>93916.449</td>\n",
              "      <td>64808.658</td>\n",
              "    </tr>\n",
              "    <tr>\n",
              "      <th>116</th>\n",
              "      <td>421817.328</td>\n",
              "      <td>221841.891</td>\n",
              "      <td>199975.437</td>\n",
              "      <td>2802.348</td>\n",
              "      <td>89628.624</td>\n",
              "      <td>103271.175</td>\n",
              "      <td>74204.082</td>\n",
              "      <td>89404.785</td>\n",
              "      <td>62509.221</td>\n",
              "    </tr>\n",
              "    <tr>\n",
              "      <th>117</th>\n",
              "      <td>649051.704</td>\n",
              "      <td>317650.797</td>\n",
              "      <td>331400.907</td>\n",
              "      <td>38491.587</td>\n",
              "      <td>125213.211</td>\n",
              "      <td>119547.468</td>\n",
              "      <td>117567.801</td>\n",
              "      <td>137742.381</td>\n",
              "      <td>110486.349</td>\n",
              "    </tr>\n",
              "    <tr>\n",
              "      <th>118</th>\n",
              "      <td>1137198.051</td>\n",
              "      <td>600382.710</td>\n",
              "      <td>536803.713</td>\n",
              "      <td>80744.832</td>\n",
              "      <td>238783.887</td>\n",
              "      <td>218626.749</td>\n",
              "      <td>188588.718</td>\n",
              "      <td>222815.736</td>\n",
              "      <td>187629.408</td>\n",
              "    </tr>\n",
              "    <tr>\n",
              "      <th>119</th>\n",
              "      <td>406102.086</td>\n",
              "      <td>188478.252</td>\n",
              "      <td>217626.741</td>\n",
              "      <td>17517.582</td>\n",
              "      <td>68802.876</td>\n",
              "      <td>76532.589</td>\n",
              "      <td>73323.261</td>\n",
              "      <td>98061.831</td>\n",
              "      <td>71852.319</td>\n",
              "    </tr>\n",
              "  </tbody>\n",
              "</table>\n",
              "<p>800 rows × 9 columns</p>\n",
              "</div>"
            ],
            "text/plain": [
              "        총_유동인구_수   남성_유동인구_수  ...  연령대_50_유동인구_수  연령대_60_이상_유동인구_수\n",
              "0    1014051.717  538417.098  ...     198731.241        110669.490\n",
              "1     363183.138  196562.619  ...      75986.073         29046.744\n",
              "2      91518.174   48869.577  ...      17863.515         11107.647\n",
              "3    1163445.354  617734.593  ...     232126.857        127518.462\n",
              "4     426201.084  229289.625  ...      88759.431         39953.808\n",
              "..           ...         ...  ...            ...               ...\n",
              "115   417919.041  214289.505  ...      93916.449         64808.658\n",
              "116   421817.328  221841.891  ...      89404.785         62509.221\n",
              "117   649051.704  317650.797  ...     137742.381        110486.349\n",
              "118  1137198.051  600382.710  ...     222815.736        187629.408\n",
              "119   406102.086  188478.252  ...      98061.831         71852.319\n",
              "\n",
              "[800 rows x 9 columns]"
            ]
          },
          "metadata": {
            "tags": []
          },
          "execution_count": 256
        }
      ]
    },
    {
      "cell_type": "code",
      "metadata": {
        "id": "kN7XKTn9Btyo"
      },
      "source": [
        "# 보정한 값이 있는 데이터에 인덱스 칼럼 추가한 후 원래 순서대로 정렬\n",
        "\n",
        "add_col0 = p_til18['area'].values\n",
        "p_imp['area'] = add_col0\n",
        "\n",
        "add_col1 = p_til18['기준 년코드'].values\n",
        "p_imp['기준 년코드'] = add_col1\n",
        "\n",
        "add_col2 = p_til18['기준_분기_코드'].values\n",
        "p_imp['기준_분기_코드'] = add_col2\n",
        "\n",
        "add_col3 = p_til18['상권_코드_명'].values\n",
        "p_imp['상권_코드_명'] = add_col3\n",
        "\n",
        "p_imp = p_imp[[\"area\",\"기준 년코드\",\"기준_분기_코드\",\"상권_코드_명\",\"총_유동인구_수\",\"남성_유동인구_수\",\"여성_유동인구_수\",\"연령대_10_유동인구_수\",\"연령대_20_유동인구_수\",\"연령대_30_유동인구_수\",\"연령대_40_유동인구_수\",\"연령대_50_유동인구_수\",\"연령대_60_이상_유동인구_수\"]]"
      ],
      "execution_count": null,
      "outputs": []
    },
    {
      "cell_type": "code",
      "metadata": {
        "id": "rz5TMGF2CxJm"
      },
      "source": [
        "# 19년 이후의 데이터를 보정한 데이터와 병합한 후 저장\n",
        "\n",
        "p_from19 = s_pop[ s_pop[\"기준 년코드\"] >= 2019 ]\n",
        "\n",
        "pop_complete = p_imp.append(p_from19)\n",
        "pop_complete = pop_complete.sort_values(by=[\"area\",\"기준 년코드\",\"기준_분기_코드\"])\n",
        "\n",
        "pop_complete.to_csv(\"pop_complete.csv\")"
      ],
      "execution_count": null,
      "outputs": []
    },
    {
      "cell_type": "markdown",
      "metadata": {
        "id": "w9pACGlvEMgI"
      },
      "source": [
        "# **보정한 매출액과 유동인구 데이터 병합**"
      ]
    },
    {
      "cell_type": "code",
      "metadata": {
        "id": "xhW4_NKB0WJM"
      },
      "source": [
        "pop_complete = pd.read_csv(\"/content/drive/My Drive/골목대장데이터/정리/pop_complete.csv\")\n",
        "m_sales = pd.read_csv(\"/content/drive/My Drive/골목대장데이터/정리/m_sales.csv\")"
      ],
      "execution_count": null,
      "outputs": []
    },
    {
      "cell_type": "code",
      "metadata": {
        "id": "xx7oUiEY1G5A"
      },
      "source": [
        "m_sales.drop(\"Unnamed: 0\",axis=1,inplace=True)\n",
        "pop_complete.drop(\"Unnamed: 0\",axis=1,inplace=True)"
      ],
      "execution_count": null,
      "outputs": []
    },
    {
      "cell_type": "code",
      "metadata": {
        "id": "HAt5J9hREamd"
      },
      "source": [
        "# 기준이 될 칼럼명 똑같이 변경\n",
        "\n",
        "pop_complete.rename(columns = {\"기준 년코드\" : \"stdr_yy_cd\", \"기준_분기_코드\" : \"stdr_qu_cd\", \"상권_코드_명\" : \"trdar_cd_nm\"}, inplace = True)"
      ],
      "execution_count": null,
      "outputs": []
    },
    {
      "cell_type": "code",
      "metadata": {
        "id": "68mdfFlSHroX"
      },
      "source": [
        "# area, 연도, 분기, 상권명을 기준으로 두 데이터 병합\n",
        "\n",
        "df_all = pd.merge(m_sales, pop_complete, on=[\"area\", \"stdr_yy_cd\",\"stdr_qu_cd\",\"trdar_cd_nm\"], how=\"outer\")"
      ],
      "execution_count": null,
      "outputs": []
    },
    {
      "cell_type": "code",
      "metadata": {
        "id": "I4HnFJBAGLEC",
        "colab": {
          "base_uri": "https://localhost:8080/",
          "height": 419
        },
        "outputId": "c29215cc-50bd-4bd1-d65e-dceb55493539"
      },
      "source": [
        "# 복잡한 칼럼명 단순화\n",
        "\n",
        "df_all = df_all.iloc[:,[0,1,2,3,4,5,22]]\n",
        "df_all.columns = [\"area\", \"yy\", \"qu\", \"name\", \"amount\", \"count\", \"pop\"]\n",
        "df_all.to_csv(\"df_all.csv\")\n",
        "df_all"
      ],
      "execution_count": null,
      "outputs": [
        {
          "output_type": "execute_result",
          "data": {
            "text/html": [
              "<div>\n",
              "<style scoped>\n",
              "    .dataframe tbody tr th:only-of-type {\n",
              "        vertical-align: middle;\n",
              "    }\n",
              "\n",
              "    .dataframe tbody tr th {\n",
              "        vertical-align: top;\n",
              "    }\n",
              "\n",
              "    .dataframe thead th {\n",
              "        text-align: right;\n",
              "    }\n",
              "</style>\n",
              "<table border=\"1\" class=\"dataframe\">\n",
              "  <thead>\n",
              "    <tr style=\"text-align: right;\">\n",
              "      <th></th>\n",
              "      <th>area</th>\n",
              "      <th>yy</th>\n",
              "      <th>qu</th>\n",
              "      <th>name</th>\n",
              "      <th>amount</th>\n",
              "      <th>count</th>\n",
              "      <th>pop</th>\n",
              "    </tr>\n",
              "  </thead>\n",
              "  <tbody>\n",
              "    <tr>\n",
              "      <th>0</th>\n",
              "      <td>0</td>\n",
              "      <td>2013</td>\n",
              "      <td>1</td>\n",
              "      <td>소월로20길</td>\n",
              "      <td>4.050417e+08</td>\n",
              "      <td>3.271000e+04</td>\n",
              "      <td>NaN</td>\n",
              "    </tr>\n",
              "    <tr>\n",
              "      <th>1</th>\n",
              "      <td>0</td>\n",
              "      <td>2013</td>\n",
              "      <td>1</td>\n",
              "      <td>신흥로20길</td>\n",
              "      <td>8.297124e+08</td>\n",
              "      <td>1.822200e+04</td>\n",
              "      <td>NaN</td>\n",
              "    </tr>\n",
              "    <tr>\n",
              "      <th>2</th>\n",
              "      <td>0</td>\n",
              "      <td>2013</td>\n",
              "      <td>1</td>\n",
              "      <td>신흥시장</td>\n",
              "      <td>1.118125e+08</td>\n",
              "      <td>7.422000e+03</td>\n",
              "      <td>NaN</td>\n",
              "    </tr>\n",
              "    <tr>\n",
              "      <th>3</th>\n",
              "      <td>0</td>\n",
              "      <td>2013</td>\n",
              "      <td>2</td>\n",
              "      <td>소월로20길</td>\n",
              "      <td>5.591971e+08</td>\n",
              "      <td>4.318800e+04</td>\n",
              "      <td>NaN</td>\n",
              "    </tr>\n",
              "    <tr>\n",
              "      <th>4</th>\n",
              "      <td>0</td>\n",
              "      <td>2013</td>\n",
              "      <td>2</td>\n",
              "      <td>신흥로20길</td>\n",
              "      <td>8.996890e+08</td>\n",
              "      <td>2.111800e+04</td>\n",
              "      <td>NaN</td>\n",
              "    </tr>\n",
              "    <tr>\n",
              "      <th>...</th>\n",
              "      <td>...</td>\n",
              "      <td>...</td>\n",
              "      <td>...</td>\n",
              "      <td>...</td>\n",
              "      <td>...</td>\n",
              "      <td>...</td>\n",
              "      <td>...</td>\n",
              "    </tr>\n",
              "    <tr>\n",
              "      <th>1195</th>\n",
              "      <td>11</td>\n",
              "      <td>2020</td>\n",
              "      <td>2</td>\n",
              "      <td>긴고랑로7길</td>\n",
              "      <td>1.549167e+09</td>\n",
              "      <td>8.130043e+08</td>\n",
              "      <td>712211.0</td>\n",
              "    </tr>\n",
              "    <tr>\n",
              "      <th>1196</th>\n",
              "      <td>11</td>\n",
              "      <td>2020</td>\n",
              "      <td>2</td>\n",
              "      <td>긴고랑로8길</td>\n",
              "      <td>5.190873e+08</td>\n",
              "      <td>1.357448e+10</td>\n",
              "      <td>985083.0</td>\n",
              "    </tr>\n",
              "    <tr>\n",
              "      <th>1197</th>\n",
              "      <td>11</td>\n",
              "      <td>2020</td>\n",
              "      <td>2</td>\n",
              "      <td>긴고랑로9길</td>\n",
              "      <td>1.885947e+09</td>\n",
              "      <td>1.424678e+08</td>\n",
              "      <td>644935.0</td>\n",
              "    </tr>\n",
              "    <tr>\n",
              "      <th>1198</th>\n",
              "      <td>11</td>\n",
              "      <td>2020</td>\n",
              "      <td>2</td>\n",
              "      <td>용마산로21길</td>\n",
              "      <td>2.334724e+09</td>\n",
              "      <td>1.119448e+09</td>\n",
              "      <td>1459316.0</td>\n",
              "    </tr>\n",
              "    <tr>\n",
              "      <th>1199</th>\n",
              "      <td>11</td>\n",
              "      <td>2020</td>\n",
              "      <td>2</td>\n",
              "      <td>중곡제일시장</td>\n",
              "      <td>2.046415e+09</td>\n",
              "      <td>3.248918e+08</td>\n",
              "      <td>261883.0</td>\n",
              "    </tr>\n",
              "  </tbody>\n",
              "</table>\n",
              "<p>1200 rows × 7 columns</p>\n",
              "</div>"
            ],
            "text/plain": [
              "      area    yy  qu     name        amount         count        pop\n",
              "0        0  2013   1   소월로20길  4.050417e+08  3.271000e+04        NaN\n",
              "1        0  2013   1   신흥로20길  8.297124e+08  1.822200e+04        NaN\n",
              "2        0  2013   1     신흥시장  1.118125e+08  7.422000e+03        NaN\n",
              "3        0  2013   2   소월로20길  5.591971e+08  4.318800e+04        NaN\n",
              "4        0  2013   2   신흥로20길  8.996890e+08  2.111800e+04        NaN\n",
              "...    ...   ...  ..      ...           ...           ...        ...\n",
              "1195    11  2020   2   긴고랑로7길  1.549167e+09  8.130043e+08   712211.0\n",
              "1196    11  2020   2   긴고랑로8길  5.190873e+08  1.357448e+10   985083.0\n",
              "1197    11  2020   2   긴고랑로9길  1.885947e+09  1.424678e+08   644935.0\n",
              "1198    11  2020   2  용마산로21길  2.334724e+09  1.119448e+09  1459316.0\n",
              "1199    11  2020   2   중곡제일시장  2.046415e+09  3.248918e+08   261883.0\n",
              "\n",
              "[1200 rows x 7 columns]"
            ]
          },
          "metadata": {
            "tags": []
          },
          "execution_count": 261
        }
      ]
    },
    {
      "cell_type": "markdown",
      "metadata": {
        "id": "yIwTa_YNIrvz"
      },
      "source": [
        "# **지역별, 시점별 방송여부 구분 칼럼 추가**"
      ]
    },
    {
      "cell_type": "code",
      "metadata": {
        "id": "VJwfNo0zR1q0"
      },
      "source": [
        "df_all = pd.read_csv(\"/content/drive/My Drive/골목대장데이터/정리/df_all.csv\")"
      ],
      "execution_count": null,
      "outputs": []
    },
    {
      "cell_type": "code",
      "metadata": {
        "id": "BKCZfG4aIw10"
      },
      "source": [
        "# 2020년 2분기까지의 데이터밖에 없으므로 그 이후에 방영한 두개 상권 삭제\n",
        "\n",
        "df_drop = df_all[ df_all[\"area\"] < 10 ]"
      ],
      "execution_count": null,
      "outputs": []
    },
    {
      "cell_type": "code",
      "metadata": {
        "id": "5h7DSKAHJL4q"
      },
      "source": [
        "# 방송 점포 포함 상권\n",
        "\n",
        "bs = [\"신흥시장\", \"상원길\", \"천호대로162길\", \"포방터시장\", \"청파로47길\", \"경희대로4길\", \"양재대로96길\", \"정릉아리랑시장\", \"세무서길\", \"공릉동도깨비시장\"]"
      ],
      "execution_count": null,
      "outputs": []
    },
    {
      "cell_type": "code",
      "metadata": {
        "id": "cSI4yaphJd65",
        "colab": {
          "base_uri": "https://localhost:8080/"
        },
        "outputId": "57680d60-3639-475e-e81a-21e60c025494"
      },
      "source": [
        "# 방송에 직접적으로 나온 점포가 포함된 상권일 경우 1, 그 외는 0인 변수 추가\n",
        "\n",
        "df_bs = df_drop[df_drop[\"name\"].isin(bs)]\n",
        "df_bs[\"location\"]=1\n",
        "\n",
        "df_notbs = df_drop[ df_drop[\"name\"].isin(bs) == False ]\n",
        "df_notbs[\"location\"] = 0\n",
        "\n",
        "df_add1 = pd.concat([df_bs,df_notbs])\n",
        "df_add1 = df_add1.sort_values([\"area\", \"yy\", \"qu\",\"name\"])"
      ],
      "execution_count": null,
      "outputs": [
        {
          "output_type": "stream",
          "text": [
            "/usr/local/lib/python3.6/dist-packages/ipykernel_launcher.py:4: SettingWithCopyWarning: \n",
            "A value is trying to be set on a copy of a slice from a DataFrame.\n",
            "Try using .loc[row_indexer,col_indexer] = value instead\n",
            "\n",
            "See the caveats in the documentation: https://pandas.pydata.org/pandas-docs/stable/user_guide/indexing.html#returning-a-view-versus-a-copy\n",
            "  after removing the cwd from sys.path.\n",
            "/usr/local/lib/python3.6/dist-packages/ipykernel_launcher.py:7: SettingWithCopyWarning: \n",
            "A value is trying to be set on a copy of a slice from a DataFrame.\n",
            "Try using .loc[row_indexer,col_indexer] = value instead\n",
            "\n",
            "See the caveats in the documentation: https://pandas.pydata.org/pandas-docs/stable/user_guide/indexing.html#returning-a-view-versus-a-copy\n",
            "  import sys\n"
          ],
          "name": "stderr"
        }
      ]
    },
    {
      "cell_type": "code",
      "metadata": {
        "id": "cCYZotIlKrXL"
      },
      "source": [
        "# 상권별 방송일자\n",
        "\n",
        "bd = [22,22,23,24,25,25,28,28,29,29]\n",
        "by = [2018, 2018, 2018, 2018, 2019, 2019, 2019, 2019,  2020,  2020]\n",
        "bq = [2,2,3,4,1,1,4,4,1,1]"
      ],
      "execution_count": null,
      "outputs": []
    },
    {
      "cell_type": "code",
      "metadata": {
        "id": "dPA6HuT2K26_",
        "colab": {
          "base_uri": "https://localhost:8080/"
        },
        "outputId": "3447ab1f-4ee5-4f5c-d36d-33e926fc83f0"
      },
      "source": [
        "# 상권별 방송일자 이후에는 1, 이전은 0인 변수 추가 후 csv로 저장\n",
        "\n",
        "a = []\n",
        "for i in range(10):\n",
        "  temp = df_drop[ df_drop[\"area\"] == i ]\n",
        "  df_bf1 = temp[ (temp[\"yy\"] < by[i]) | ((temp[\"yy\"] == by[i]) & (temp[\"qu\"] < bq[i])) ]\n",
        "  df_bf2 = temp[ (temp[\"yy\"] > by[i]) | ((temp[\"yy\"] == by[i]) & (temp[\"qu\"] >= bq[i])) ]\n",
        "  df_bf1[\"time\"] = 0\n",
        "  df_bf2[\"time\"] = 1\n",
        "  temp = pd.concat( [df_bf1, df_bf2] )\n",
        "  a.append(temp)\n",
        "\n",
        "df_full = pd.concat( [a[0],a[1],a[2],a[3],a[4],a[5],a[6],a[7],a[8],a[9]] )\n",
        "\n",
        "df_full[\"location\"] = df_add1[\"location\"]\n",
        "\n",
        "df_full = df_full.sort_values( [\"area\", \"yy\", \"qu\", \"name\"] )\n",
        "\n",
        "df_full.to_csv(\"df_full.csv\")"
      ],
      "execution_count": null,
      "outputs": [
        {
          "output_type": "stream",
          "text": [
            "/usr/local/lib/python3.6/dist-packages/ipykernel_launcher.py:8: SettingWithCopyWarning: \n",
            "A value is trying to be set on a copy of a slice from a DataFrame.\n",
            "Try using .loc[row_indexer,col_indexer] = value instead\n",
            "\n",
            "See the caveats in the documentation: https://pandas.pydata.org/pandas-docs/stable/user_guide/indexing.html#returning-a-view-versus-a-copy\n",
            "  \n",
            "/usr/local/lib/python3.6/dist-packages/ipykernel_launcher.py:9: SettingWithCopyWarning: \n",
            "A value is trying to be set on a copy of a slice from a DataFrame.\n",
            "Try using .loc[row_indexer,col_indexer] = value instead\n",
            "\n",
            "See the caveats in the documentation: https://pandas.pydata.org/pandas-docs/stable/user_guide/indexing.html#returning-a-view-versus-a-copy\n",
            "  if __name__ == '__main__':\n",
            "/usr/local/lib/python3.6/dist-packages/ipykernel_launcher.py:8: SettingWithCopyWarning: \n",
            "A value is trying to be set on a copy of a slice from a DataFrame.\n",
            "Try using .loc[row_indexer,col_indexer] = value instead\n",
            "\n",
            "See the caveats in the documentation: https://pandas.pydata.org/pandas-docs/stable/user_guide/indexing.html#returning-a-view-versus-a-copy\n",
            "  \n",
            "/usr/local/lib/python3.6/dist-packages/ipykernel_launcher.py:9: SettingWithCopyWarning: \n",
            "A value is trying to be set on a copy of a slice from a DataFrame.\n",
            "Try using .loc[row_indexer,col_indexer] = value instead\n",
            "\n",
            "See the caveats in the documentation: https://pandas.pydata.org/pandas-docs/stable/user_guide/indexing.html#returning-a-view-versus-a-copy\n",
            "  if __name__ == '__main__':\n",
            "/usr/local/lib/python3.6/dist-packages/ipykernel_launcher.py:8: SettingWithCopyWarning: \n",
            "A value is trying to be set on a copy of a slice from a DataFrame.\n",
            "Try using .loc[row_indexer,col_indexer] = value instead\n",
            "\n",
            "See the caveats in the documentation: https://pandas.pydata.org/pandas-docs/stable/user_guide/indexing.html#returning-a-view-versus-a-copy\n",
            "  \n",
            "/usr/local/lib/python3.6/dist-packages/ipykernel_launcher.py:9: SettingWithCopyWarning: \n",
            "A value is trying to be set on a copy of a slice from a DataFrame.\n",
            "Try using .loc[row_indexer,col_indexer] = value instead\n",
            "\n",
            "See the caveats in the documentation: https://pandas.pydata.org/pandas-docs/stable/user_guide/indexing.html#returning-a-view-versus-a-copy\n",
            "  if __name__ == '__main__':\n",
            "/usr/local/lib/python3.6/dist-packages/ipykernel_launcher.py:8: SettingWithCopyWarning: \n",
            "A value is trying to be set on a copy of a slice from a DataFrame.\n",
            "Try using .loc[row_indexer,col_indexer] = value instead\n",
            "\n",
            "See the caveats in the documentation: https://pandas.pydata.org/pandas-docs/stable/user_guide/indexing.html#returning-a-view-versus-a-copy\n",
            "  \n",
            "/usr/local/lib/python3.6/dist-packages/ipykernel_launcher.py:9: SettingWithCopyWarning: \n",
            "A value is trying to be set on a copy of a slice from a DataFrame.\n",
            "Try using .loc[row_indexer,col_indexer] = value instead\n",
            "\n",
            "See the caveats in the documentation: https://pandas.pydata.org/pandas-docs/stable/user_guide/indexing.html#returning-a-view-versus-a-copy\n",
            "  if __name__ == '__main__':\n",
            "/usr/local/lib/python3.6/dist-packages/ipykernel_launcher.py:8: SettingWithCopyWarning: \n",
            "A value is trying to be set on a copy of a slice from a DataFrame.\n",
            "Try using .loc[row_indexer,col_indexer] = value instead\n",
            "\n",
            "See the caveats in the documentation: https://pandas.pydata.org/pandas-docs/stable/user_guide/indexing.html#returning-a-view-versus-a-copy\n",
            "  \n",
            "/usr/local/lib/python3.6/dist-packages/ipykernel_launcher.py:9: SettingWithCopyWarning: \n",
            "A value is trying to be set on a copy of a slice from a DataFrame.\n",
            "Try using .loc[row_indexer,col_indexer] = value instead\n",
            "\n",
            "See the caveats in the documentation: https://pandas.pydata.org/pandas-docs/stable/user_guide/indexing.html#returning-a-view-versus-a-copy\n",
            "  if __name__ == '__main__':\n",
            "/usr/local/lib/python3.6/dist-packages/ipykernel_launcher.py:8: SettingWithCopyWarning: \n",
            "A value is trying to be set on a copy of a slice from a DataFrame.\n",
            "Try using .loc[row_indexer,col_indexer] = value instead\n",
            "\n",
            "See the caveats in the documentation: https://pandas.pydata.org/pandas-docs/stable/user_guide/indexing.html#returning-a-view-versus-a-copy\n",
            "  \n",
            "/usr/local/lib/python3.6/dist-packages/ipykernel_launcher.py:9: SettingWithCopyWarning: \n",
            "A value is trying to be set on a copy of a slice from a DataFrame.\n",
            "Try using .loc[row_indexer,col_indexer] = value instead\n",
            "\n",
            "See the caveats in the documentation: https://pandas.pydata.org/pandas-docs/stable/user_guide/indexing.html#returning-a-view-versus-a-copy\n",
            "  if __name__ == '__main__':\n",
            "/usr/local/lib/python3.6/dist-packages/ipykernel_launcher.py:8: SettingWithCopyWarning: \n",
            "A value is trying to be set on a copy of a slice from a DataFrame.\n",
            "Try using .loc[row_indexer,col_indexer] = value instead\n",
            "\n",
            "See the caveats in the documentation: https://pandas.pydata.org/pandas-docs/stable/user_guide/indexing.html#returning-a-view-versus-a-copy\n",
            "  \n",
            "/usr/local/lib/python3.6/dist-packages/ipykernel_launcher.py:9: SettingWithCopyWarning: \n",
            "A value is trying to be set on a copy of a slice from a DataFrame.\n",
            "Try using .loc[row_indexer,col_indexer] = value instead\n",
            "\n",
            "See the caveats in the documentation: https://pandas.pydata.org/pandas-docs/stable/user_guide/indexing.html#returning-a-view-versus-a-copy\n",
            "  if __name__ == '__main__':\n",
            "/usr/local/lib/python3.6/dist-packages/ipykernel_launcher.py:8: SettingWithCopyWarning: \n",
            "A value is trying to be set on a copy of a slice from a DataFrame.\n",
            "Try using .loc[row_indexer,col_indexer] = value instead\n",
            "\n",
            "See the caveats in the documentation: https://pandas.pydata.org/pandas-docs/stable/user_guide/indexing.html#returning-a-view-versus-a-copy\n",
            "  \n",
            "/usr/local/lib/python3.6/dist-packages/ipykernel_launcher.py:9: SettingWithCopyWarning: \n",
            "A value is trying to be set on a copy of a slice from a DataFrame.\n",
            "Try using .loc[row_indexer,col_indexer] = value instead\n",
            "\n",
            "See the caveats in the documentation: https://pandas.pydata.org/pandas-docs/stable/user_guide/indexing.html#returning-a-view-versus-a-copy\n",
            "  if __name__ == '__main__':\n",
            "/usr/local/lib/python3.6/dist-packages/ipykernel_launcher.py:8: SettingWithCopyWarning: \n",
            "A value is trying to be set on a copy of a slice from a DataFrame.\n",
            "Try using .loc[row_indexer,col_indexer] = value instead\n",
            "\n",
            "See the caveats in the documentation: https://pandas.pydata.org/pandas-docs/stable/user_guide/indexing.html#returning-a-view-versus-a-copy\n",
            "  \n",
            "/usr/local/lib/python3.6/dist-packages/ipykernel_launcher.py:9: SettingWithCopyWarning: \n",
            "A value is trying to be set on a copy of a slice from a DataFrame.\n",
            "Try using .loc[row_indexer,col_indexer] = value instead\n",
            "\n",
            "See the caveats in the documentation: https://pandas.pydata.org/pandas-docs/stable/user_guide/indexing.html#returning-a-view-versus-a-copy\n",
            "  if __name__ == '__main__':\n",
            "/usr/local/lib/python3.6/dist-packages/ipykernel_launcher.py:8: SettingWithCopyWarning: \n",
            "A value is trying to be set on a copy of a slice from a DataFrame.\n",
            "Try using .loc[row_indexer,col_indexer] = value instead\n",
            "\n",
            "See the caveats in the documentation: https://pandas.pydata.org/pandas-docs/stable/user_guide/indexing.html#returning-a-view-versus-a-copy\n",
            "  \n",
            "/usr/local/lib/python3.6/dist-packages/ipykernel_launcher.py:9: SettingWithCopyWarning: \n",
            "A value is trying to be set on a copy of a slice from a DataFrame.\n",
            "Try using .loc[row_indexer,col_indexer] = value instead\n",
            "\n",
            "See the caveats in the documentation: https://pandas.pydata.org/pandas-docs/stable/user_guide/indexing.html#returning-a-view-versus-a-copy\n",
            "  if __name__ == '__main__':\n"
          ],
          "name": "stderr"
        }
      ]
    },
    {
      "cell_type": "markdown",
      "metadata": {
        "id": "LYwm_9dBMhYB"
      },
      "source": [
        "# **상권별 시청률 칼럼 추가**"
      ]
    },
    {
      "cell_type": "code",
      "metadata": {
        "id": "dnmpnD68MkQz"
      },
      "source": [
        "# 상권별 시청률 평균\n",
        "\n",
        "rating0=np.mean([4.4,5.0,5.7,5.0,5.1])\n",
        "rating1=np.mean([5.7,5.2,5.8,4.4,4.8])\n",
        "rating2=np.mean([6.2,5.5,6.1,5.5])\n",
        "rating3=np.mean([6.5,7.8,7.0,8.3,8.6,8.6])\n",
        "rating4=np.mean([8.1,9.4,9.5,10.4,8.6])\n",
        "rating5=np.mean([9.5,8.8,8.8,8.5,8.9])\n",
        "rating6=np.mean([5.4,5.6,6.3,5.4,5.0])\n",
        "rating7=np.mean([6.1,5.2,5.3,5.7])\n",
        "rating8=np.mean([7.0,7.6,7.5,6.8])\n",
        "rating9=np.mean([8.1,7.2,7.5,8.2,9.0])"
      ],
      "execution_count": null,
      "outputs": []
    },
    {
      "cell_type": "code",
      "metadata": {
        "id": "U3DJ7ZtZMrct"
      },
      "source": [
        "# 상권별 시청률 추가\n",
        "\n",
        "rating=[]\n",
        "for j in range(10):\n",
        "  for i in range(len(df_full[df_full[\"area\"]==j])):\n",
        "    rating.append(globals()['rating{}'.format(j)])"
      ],
      "execution_count": null,
      "outputs": []
    },
    {
      "cell_type": "code",
      "metadata": {
        "id": "k7FU_fprNOpF"
      },
      "source": [
        "# 리스트를 데이터프레임으로 변환 후 기존 데이터에 병합\n",
        "pd.DataFrame(rating)\n",
        "\n",
        "df_real = df_full.copy()\n",
        "\n",
        "df_real[\"rating\"]=rating\n",
        "df_real.to_csv(\"df_real.csv\")"
      ],
      "execution_count": null,
      "outputs": []
    },
    {
      "cell_type": "markdown",
      "metadata": {
        "id": "S4Z-Dby40QHb"
      },
      "source": [
        "# **상도동 데이터 전처리**"
      ]
    },
    {
      "cell_type": "code",
      "metadata": {
        "id": "qf_MoZx40j2v"
      },
      "source": [
        "sangdo_sales = pd.read_csv(\"/content/sangdo_sales.csv\", encoding=\"CP949\")"
      ],
      "execution_count": null,
      "outputs": []
    },
    {
      "cell_type": "code",
      "metadata": {
        "id": "aQc_z2vJ9plC"
      },
      "source": [
        "sangdo_mean = sangdo_sales.groupby([\"stdr_yy_cd\",\"stdr_qu_cd\"]).mean().reset_index()"
      ],
      "execution_count": null,
      "outputs": []
    },
    {
      "cell_type": "markdown",
      "metadata": {
        "id": "_Y2en6o33757"
      },
      "source": [
        "## **매출액 보정**"
      ]
    },
    {
      "cell_type": "markdown",
      "metadata": {
        "id": "MnxxIGzw0cNK"
      },
      "source": [
        "### **2019 보정**"
      ]
    },
    {
      "cell_type": "code",
      "metadata": {
        "id": "jBvNT8tK0cNL"
      },
      "source": [
        "# 2018년 연평균 값 계산\n",
        "\n",
        "mean_2018 = sangdo_sales[sangdo_sales[\"stdr_yy_cd\"] == 2018].groupby(\"trdar_cd_nm\").mean().reset_index()"
      ],
      "execution_count": null,
      "outputs": []
    },
    {
      "cell_type": "code",
      "metadata": {
        "id": "FGR20AFc0cNO"
      },
      "source": [
        "# 2019년 데이터 분기별 분할 저장\n",
        "\n",
        "sangdo_2019 = sangdo_sales[sangdo_sales[\"stdr_yy_cd\"] == 2019]\n",
        "sangdo_2019_1 =  sangdo_2019[sangdo_2019[\"stdr_qu_cd\"] == 1].reset_index()\n",
        "sangdo_2019_2 =  sangdo_2019[sangdo_2019[\"stdr_qu_cd\"] == 2].reset_index()\n",
        "sangdo_2019_3 =  sangdo_2019[sangdo_2019[\"stdr_qu_cd\"] == 3].reset_index()\n",
        "sangdo_2019_4 =  sangdo_2019[sangdo_2019[\"stdr_qu_cd\"] == 4].reset_index()"
      ],
      "execution_count": null,
      "outputs": []
    },
    {
      "cell_type": "code",
      "metadata": {
        "id": "8Mewkqg50cNQ"
      },
      "source": [
        "# 각 분기별 보정 함수 저장\n",
        "\n",
        "rate = 0.163171808003894\n",
        "\n",
        "def yy2019(qu):\n",
        "  temp2 = []\n",
        "  for j in range(2):\n",
        "    temp = sangdo_sales[ (sangdo_sales[\"stdr_yy_cd\"] == 2019) & (sangdo_sales[\"stdr_qu_cd\"] == qu) ] [\"thsmon_selng_amt\"].iloc[j]  + (mean_2018[\"thsmon_selng_amt\"][j]*rate)\n",
        "    temp2.append(temp)\n",
        "  return temp2"
      ],
      "execution_count": null,
      "outputs": []
    },
    {
      "cell_type": "code",
      "metadata": {
        "id": "O0EGNSPw0cNS"
      },
      "source": [
        "# 각 분기별 보정값 저장\n",
        "\n",
        "temp2 = yy2019(1)\n",
        "\n",
        "sangdo_add_1 = pd.concat([sangdo_2019_1, pd.DataFrame(temp2)], axis=1)"
      ],
      "execution_count": null,
      "outputs": []
    },
    {
      "cell_type": "code",
      "metadata": {
        "id": "moMWIeWP0cNW"
      },
      "source": [
        "temp2 = yy2019(2)\n",
        "\n",
        "sangdo_add_2 = pd.concat([sangdo_2019_2, pd.DataFrame(temp2)], axis=1)"
      ],
      "execution_count": null,
      "outputs": []
    },
    {
      "cell_type": "code",
      "metadata": {
        "id": "vcSEjlNH0cNY"
      },
      "source": [
        "temp2 = yy2019(3)\n",
        "\n",
        "sangdo_add_3 = pd.concat([sangdo_2019_3, pd.DataFrame(temp2)], axis=1)"
      ],
      "execution_count": null,
      "outputs": []
    },
    {
      "cell_type": "code",
      "metadata": {
        "id": "IEOyDYGg0cNa"
      },
      "source": [
        "temp2 = yy2019(4)\n",
        "\n",
        "sangdo_add_4 = pd.concat([sangdo_2019_4, pd.DataFrame(temp2)], axis=1)"
      ],
      "execution_count": null,
      "outputs": []
    },
    {
      "cell_type": "code",
      "metadata": {
        "id": "D25b2L690cNc"
      },
      "source": [
        "sangdo_mod = pd.concat([sangdo_add_1,sangdo_add_2,sangdo_add_3,sangdo_add_4])\n",
        "sangdo_mod.rename(columns={ 0 : \"amount\" }, inplace=True)"
      ],
      "execution_count": null,
      "outputs": []
    },
    {
      "cell_type": "markdown",
      "metadata": {
        "id": "giWaUwvD0cNe"
      },
      "source": [
        "### **2020 보정**"
      ]
    },
    {
      "cell_type": "code",
      "metadata": {
        "id": "RvHMFuJd0cNf"
      },
      "source": [
        "# 보정 후 2019년 연평균 값 계산\n",
        "\n",
        "mean_2019 = sangdo_mod[sangdo_mod[\"stdr_yy_cd\"] == 2019].groupby(\"trdar_cd_nm\").mean().reset_index()"
      ],
      "execution_count": null,
      "outputs": []
    },
    {
      "cell_type": "code",
      "metadata": {
        "id": "8AgOKlm90cNg"
      },
      "source": [
        "# 2020년 데이터 분기별 분할 저장\n",
        "\n",
        "sangdo_2020 = sangdo_sales[sangdo_sales[\"stdr_yy_cd\"] == 2020]\n",
        "sangdo_2020_1 =  sangdo_2020[sangdo_2020[\"stdr_qu_cd\"] == 1].reset_index()\n",
        "sangdo_2020_2 =  sangdo_2020[sangdo_2020[\"stdr_qu_cd\"] == 2].reset_index()"
      ],
      "execution_count": null,
      "outputs": []
    },
    {
      "cell_type": "code",
      "metadata": {
        "id": "Dy_Twrhx0cNi"
      },
      "source": [
        "# 각 분기별 보정 함수 저장\n",
        "\n",
        "rate2020_up = -0.13921023107163907 - 0.09828061082274578\n",
        "\n",
        "def yy2020(qu):\n",
        "  temp1 = []\n",
        "  for j in range(2):\n",
        "    temp = sangdo_sales[ (sangdo_sales[\"stdr_yy_cd\"] == 2020) & (sangdo_sales[\"stdr_qu_cd\"] == qu) ] [\"thsmon_selng_amt\"].iloc[j]  + (mean_2019[\"amount\"][j]*(-rate2020_up))\n",
        "    temp1.append(temp)\n",
        "  return temp1"
      ],
      "execution_count": null,
      "outputs": []
    },
    {
      "cell_type": "code",
      "metadata": {
        "id": "CauAJI8w0cNm"
      },
      "source": [
        "# 각 분기별 보정값 저장\n",
        "\n",
        "temp1 = yy2020(1)\n",
        "\n",
        "sangdo_add2_1 = pd.concat([sangdo_2020_1, pd.DataFrame(temp1)], axis=1)"
      ],
      "execution_count": null,
      "outputs": []
    },
    {
      "cell_type": "code",
      "metadata": {
        "id": "ZPN0O0qe0cNp"
      },
      "source": [
        "temp1 = yy2020(2)\n",
        "\n",
        "sangdo_add2_2 = pd.concat([sangdo_2020_2, pd.DataFrame(temp1)], axis=1)"
      ],
      "execution_count": null,
      "outputs": []
    },
    {
      "cell_type": "code",
      "metadata": {
        "id": "HTJyDZ8P0cNr"
      },
      "source": [
        "sangdo_mod2 = pd.concat([sangdo_add2_1,sangdo_add2_2])"
      ],
      "execution_count": null,
      "outputs": []
    },
    {
      "cell_type": "markdown",
      "metadata": {
        "id": "Yy7wy8V50cNu"
      },
      "source": [
        "### **2019년 이전 데이터와 결합**"
      ]
    },
    {
      "cell_type": "code",
      "metadata": {
        "id": "ItfCv7lV0cNv"
      },
      "source": [
        "#2019년 보정 데이터 열 수정\n",
        "\n",
        "## 불필요 열 삭제, 기존 매출액 데이터 대체\n",
        "sangdo_mod.drop([\"index\",\"thsmon_selng_amt\"], axis=1, inplace=True)\n",
        "sangdo_mod.rename(columns={ \"amount\" : \"thsmon_selng_amt\" }, inplace=True)\n",
        "\n",
        "## 기존 데이터와 똑같이 열 순서 변경\n",
        "col_ = [\"stdr_yy_cd\", \"stdr_qu_cd\", \"trdar_cd_nm\", \"thsmon_selng_amt\", \"thsmon_selng_co\", \"ml_selng_amt\",\"ml_selng_co\", \"fml_selng_amt\",\"fml_selng_co\",\n",
        "        \"agrde_10_selng_amt\",\t\"agrde_20_selng_amt\",\t\"agrde_30_selng_amt\",\t\"agrde_40_selng_amt\",\t\"agrde_50_selng_amt\",\t\"agrde_60_above_selng_amt\",\n",
        "        \"agrde_10_selng_co\",\t\"agrde_20_selng_co\",\t\"agrde_30_selng_co\",\t\"agrde_40_selng_co\",\t\"agrde_50_selng_co\",\t\"agrde_60_above_selng_co\"]\n",
        "\n",
        "sangdo_mod = sangdo_mod[col_]\n"
      ],
      "execution_count": null,
      "outputs": []
    },
    {
      "cell_type": "code",
      "metadata": {
        "id": "WGgcltrq0cNw"
      },
      "source": [
        "# 2020년 보정 데이터 열 수정\n",
        "\n",
        "## 불필요 열 삭제\n",
        "sangdo_mod2.drop([\"index\",\"thsmon_selng_amt\"], axis=1, inplace=True)\n",
        "sangdo_mod2.rename(columns={ 0 : \"thsmon_selng_amt\" }, inplace=True)\n",
        "\n",
        "## 기존 데이터와 똑같이 열 순서 변경\n",
        "\n",
        "sangdo_mod2 = sangdo_mod2[col_]"
      ],
      "execution_count": null,
      "outputs": []
    },
    {
      "cell_type": "code",
      "metadata": {
        "id": "NjHyw1Xw0cNy"
      },
      "source": [
        "# 2019년 이전 데이터 생성\n",
        "\n",
        "sangdo_before = sangdo_sales[sangdo_sales[\"stdr_yy_cd\"].isin([2019,2020]) == False]"
      ],
      "execution_count": null,
      "outputs": []
    },
    {
      "cell_type": "code",
      "metadata": {
        "id": "ayw-nu4k0cN2"
      },
      "source": [
        "# 기존 데이터와 결합 후 정렬\n",
        "\n",
        "sangdo_m = pd.concat([sangdo_before, sangdo_mod, sangdo_mod2])\n",
        "sangdo_m = sangdo_m.sort_values(by=[\"stdr_yy_cd\", \"stdr_qu_cd\"])"
      ],
      "execution_count": null,
      "outputs": []
    },
    {
      "cell_type": "markdown",
      "metadata": {
        "id": "7BJCHk9K3--Z"
      },
      "source": [
        "## **매출건수 보정**"
      ]
    },
    {
      "cell_type": "markdown",
      "metadata": {
        "id": "_omTe6Ci35uO"
      },
      "source": [
        "### **2019 보정**"
      ]
    },
    {
      "cell_type": "code",
      "metadata": {
        "id": "EJoh0LpQ35uP"
      },
      "source": [
        "# 2018년 연평균 값 계산\n",
        "\n",
        "mean2018_c = sangdo_m[sangdo_m[\"stdr_yy_cd\"] == 2018].groupby(\"trdar_cd_nm\").mean().reset_index()"
      ],
      "execution_count": null,
      "outputs": []
    },
    {
      "cell_type": "code",
      "metadata": {
        "id": "9MbVr6Za35uT"
      },
      "source": [
        "# 2019년 데이터 분기별 분할 저장\n",
        "\n",
        "sangdo_m_2019 = sangdo_m[sangdo_m[\"stdr_yy_cd\"] == 2019]\n",
        "sangdo_2019_1 =  sangdo_m_2019[sangdo_m_2019[\"stdr_qu_cd\"] == 1].reset_index()\n",
        "sangdo_2019_2 =  sangdo_m_2019[sangdo_m_2019[\"stdr_qu_cd\"] == 2].reset_index()\n",
        "sangdo_2019_3 =  sangdo_m_2019[sangdo_m_2019[\"stdr_qu_cd\"] == 3].reset_index()\n",
        "sangdo_2019_4 =  sangdo_m_2019[sangdo_m_2019[\"stdr_qu_cd\"] == 4].reset_index()"
      ],
      "execution_count": null,
      "outputs": []
    },
    {
      "cell_type": "code",
      "metadata": {
        "id": "z3xWPkPm35uV"
      },
      "source": [
        "# 각 분기별 보정 함수 저장\n",
        "\n",
        "c_rate = 0.17807694978534194\n",
        "\n",
        "def yy2019co(qu):\n",
        "  temp2 = []\n",
        "  for j in range(2):\n",
        "    temp = sangdo_m[ (sangdo_m[\"stdr_yy_cd\"] == 2019) & (sangdo_m[\"stdr_qu_cd\"] == qu) ] [\"thsmon_selng_co\"].iloc[j]  + (mean2018_c[\"thsmon_selng_co\"][j]*c_rate)\n",
        "    temp2.append(temp)\n",
        "  return temp2"
      ],
      "execution_count": null,
      "outputs": []
    },
    {
      "cell_type": "code",
      "metadata": {
        "id": "L_f1eiqd35uX"
      },
      "source": [
        "# 각 분기별 보정값 저장\n",
        "\n",
        "temp2 = yy2019co(1)\n",
        "\n",
        "sangdo_c_1 = pd.concat([sangdo_2019_1, pd.DataFrame(temp2)], axis=1)"
      ],
      "execution_count": null,
      "outputs": []
    },
    {
      "cell_type": "code",
      "metadata": {
        "id": "2H9M07rm35uZ"
      },
      "source": [
        "temp2 = yy2019co(2)\n",
        "\n",
        "sangdo_c_2 = pd.concat([sangdo_2019_2, pd.DataFrame(temp2)], axis=1)"
      ],
      "execution_count": null,
      "outputs": []
    },
    {
      "cell_type": "code",
      "metadata": {
        "id": "mY2G1_Nd35ud"
      },
      "source": [
        "temp2 = yy2019co(3)\n",
        "\n",
        "sangdo_c_3 = pd.concat([sangdo_2019_3, pd.DataFrame(temp2)], axis=1)"
      ],
      "execution_count": null,
      "outputs": []
    },
    {
      "cell_type": "code",
      "metadata": {
        "id": "gZ8OqhR635uf"
      },
      "source": [
        "temp2 = yy2019co(4)\n",
        "\n",
        "sangdo_c_4 = pd.concat([sangdo_2019_4, pd.DataFrame(temp2)], axis=1)"
      ],
      "execution_count": null,
      "outputs": []
    },
    {
      "cell_type": "code",
      "metadata": {
        "id": "yVVvJOnt35ui"
      },
      "source": [
        "sangdo_c_mod = pd.concat([sangdo_c_1,sangdo_c_2,sangdo_c_3,sangdo_c_4])\n",
        "sangdo_c_mod.rename(columns={ 0 : \"count\" }, inplace=True)"
      ],
      "execution_count": null,
      "outputs": []
    },
    {
      "cell_type": "markdown",
      "metadata": {
        "id": "iqmTuZ9l35uk"
      },
      "source": [
        "### **2020 보정**"
      ]
    },
    {
      "cell_type": "code",
      "metadata": {
        "id": "pI9bwLoO35uk"
      },
      "source": [
        "# 보정 후 2019년 연평균 값 계산\n",
        "\n",
        "mean_2019_c = sangdo_c_mod[sangdo_c_mod[\"stdr_yy_cd\"] == 2019].groupby(\"trdar_cd_nm\").mean().reset_index()"
      ],
      "execution_count": null,
      "outputs": []
    },
    {
      "cell_type": "code",
      "metadata": {
        "id": "GLtyFLsF35um"
      },
      "source": [
        "# 2020년 데이터 분기별 분할 저장\n",
        "\n",
        "sangdo_m_2020 = sangdo_m[sangdo_m[\"stdr_yy_cd\"] == 2020]\n",
        "sangdo_2020_1 =  sangdo_m_2020[sangdo_m_2020[\"stdr_qu_cd\"] == 1].reset_index()\n",
        "sangdo_2020_2 =  sangdo_m_2020[sangdo_m_2020[\"stdr_qu_cd\"] == 2].reset_index()"
      ],
      "execution_count": null,
      "outputs": []
    },
    {
      "cell_type": "code",
      "metadata": {
        "id": "OqiTCk3735un"
      },
      "source": [
        "# 각 분기별 보정 함수 저장\n",
        "\n",
        "c_rate_2 = -0.1466564812980351 - 0.10677769051159279\n",
        "\n",
        "def yy2020co(qu):\n",
        "  temp1 = []\n",
        "  for j in range(2):\n",
        "    temp = sangdo_m[ (sangdo_m[\"stdr_yy_cd\"] == 2020) & (sangdo_m[\"stdr_qu_cd\"] == qu) ] [\"thsmon_selng_co\"].iloc[j]  + (mean_2019_c[\"count\"][j]*(-c_rate_2))\n",
        "    temp1.append(temp)\n",
        "  return temp1"
      ],
      "execution_count": null,
      "outputs": []
    },
    {
      "cell_type": "code",
      "metadata": {
        "id": "cff6K0eL35uq"
      },
      "source": [
        "# 각 분기별 보정값 저장\n",
        "\n",
        "temp1 = yy2020co(1)\n",
        "\n",
        "sangdo_c2_1 = pd.concat([sangdo_2020_1, pd.DataFrame(temp1)], axis=1)"
      ],
      "execution_count": null,
      "outputs": []
    },
    {
      "cell_type": "code",
      "metadata": {
        "id": "lLnJrW-z35ut"
      },
      "source": [
        "temp1 = yy2020co(2)\n",
        "\n",
        "sangdo_c2_2 = pd.concat([sangdo_2020_2, pd.DataFrame(temp1)], axis=1)"
      ],
      "execution_count": null,
      "outputs": []
    },
    {
      "cell_type": "code",
      "metadata": {
        "id": "6hS1NKkV35uw"
      },
      "source": [
        "sangdo_c_mod2 = pd.concat([sangdo_c2_1,sangdo_c2_2])"
      ],
      "execution_count": null,
      "outputs": []
    },
    {
      "cell_type": "markdown",
      "metadata": {
        "id": "IzjIepGN35uy"
      },
      "source": [
        "### **2019년 이전 데이터와 결합**"
      ]
    },
    {
      "cell_type": "code",
      "metadata": {
        "id": "Hrq-M2yn35uy"
      },
      "source": [
        "# 2019년 보정 데이터 열 수정\n",
        "\n",
        "## 불필요 열 삭제, 기존 매출건수 데이터 대체\n",
        "sangdo_c_mod.drop([\"index\",\"thsmon_selng_co\"], axis=1, inplace=True)\n",
        "sangdo_c_mod.rename(columns={ \"count\" : \"thsmon_selng_co\" }, inplace=True)\n",
        "\n",
        "## 기존 데이터와 똑같이 칼럼순서변경\n",
        "sangdo_c_mod = sangdo_c_mod[col_]"
      ],
      "execution_count": null,
      "outputs": []
    },
    {
      "cell_type": "code",
      "metadata": {
        "id": "PpAIyIOB35u0"
      },
      "source": [
        "# 2020년 보정 데이터 열 수정\n",
        "\n",
        "## 불필요 열 삭제, 기존 매출건수 데이터 대체\n",
        "sangdo_c_mod2.drop([\"index\",\"thsmon_selng_co\"], axis=1, inplace=True)\n",
        "sangdo_c_mod2.rename(columns={ 0 : \"thsmon_selng_co\" }, inplace=True)\n",
        "\n",
        "## 기존 데이터와 똑같이 칼럼순서변경\n",
        "sangdo_c_mod2 = sangdo_c_mod2[col_]"
      ],
      "execution_count": null,
      "outputs": []
    },
    {
      "cell_type": "code",
      "metadata": {
        "id": "xYpHb7sg35u1"
      },
      "source": [
        "# 2019년 이전 데이터 생성\n",
        "\n",
        "sangdo_before2 = sangdo_m[sangdo_m[\"stdr_yy_cd\"].isin([2019,2020]) == False]"
      ],
      "execution_count": null,
      "outputs": []
    },
    {
      "cell_type": "code",
      "metadata": {
        "id": "xZkV-rfz35u4"
      },
      "source": [
        "# # 기존 데이터와 결합 후 정렬\n",
        "\n",
        "sangdo_m2 = pd.concat([sangdo_before2, sangdo_c_mod, sangdo_c_mod2])\n",
        "sangdo_m2 = sangdo_m2.sort_values(by=[\"stdr_yy_cd\", \"stdr_qu_cd\"])\n",
        "sangdo_m2.to_csv(\"sangdo_m.csv\")"
      ],
      "execution_count": null,
      "outputs": []
    }
  ]
}